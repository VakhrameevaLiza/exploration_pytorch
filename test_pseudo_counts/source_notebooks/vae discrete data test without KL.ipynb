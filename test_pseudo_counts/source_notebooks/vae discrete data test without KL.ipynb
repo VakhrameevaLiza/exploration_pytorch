{
 "cells": [
  {
   "cell_type": "code",
   "execution_count": 1,
   "metadata": {
    "collapsed": true
   },
   "outputs": [],
   "source": [
    "from __future__ import print_function\n",
    "import argparse\n",
    "import torch\n",
    "import torch.utils.data\n",
    "from torch import nn, optim\n",
    "from torch.autograd import Variable\n",
    "from torch.nn import functional as F\n",
    "from torchvision import datasets, transforms\n",
    "from torchvision.utils import save_image\n",
    "import numpy as np\n",
    "from tqdm import tqdm"
   ]
  },
  {
   "cell_type": "code",
   "execution_count": 2,
   "metadata": {
    "collapsed": true
   },
   "outputs": [],
   "source": [
    "import matplotlib.pyplot as plt\n",
    "%matplotlib inline\n",
    "from IPython.display import clear_output"
   ]
  },
  {
   "cell_type": "code",
   "execution_count": 3,
   "metadata": {
    "collapsed": true
   },
   "outputs": [],
   "source": [
    "cuda = torch.cuda.is_available()"
   ]
  },
  {
   "cell_type": "code",
   "execution_count": 4,
   "metadata": {
    "collapsed": true
   },
   "outputs": [],
   "source": [
    "use_cuda = torch.cuda.is_available()\n",
    "FloatTensor = torch.cuda.FloatTensor if use_cuda else torch.FloatTensor\n",
    "LongTensor = torch.cuda.LongTensor   if use_cuda else torch.LongTensor\n",
    "ByteTensor = torch.cuda.ByteTensor   if use_cuda else torch.ByteTensor\n",
    "def convert_to_var(arr, astype='float32', add_dim=False):\n",
    "    if add_dim:\n",
    "        arr = np.array([arr])\n",
    "    if astype == 'float32':\n",
    "        v = Variable(FloatTensor(arr.astype(astype))) \n",
    "    else:\n",
    "        v = Variable(LongTensor(arr.astype(astype)))\n",
    "    return v"
   ]
  },
  {
   "cell_type": "code",
   "execution_count": 5,
   "metadata": {
    "collapsed": true
   },
   "outputs": [],
   "source": [
    "class Flatten(nn.Module):\n",
    "    def forward(self, x):\n",
    "        return x.view(x.size()[0], -1)"
   ]
  },
  {
   "cell_type": "code",
   "execution_count": 48,
   "metadata": {
    "collapsed": true
   },
   "outputs": [],
   "source": [
    "class VAE(nn.Module):\n",
    "    def __init__(self, input_shape=(-1, 10),\n",
    "                 latent_dim=2, n_samples=10,\n",
    "                 fc_size=1024, num_layers=2):\n",
    "        super(VAE, self).__init__()\n",
    "        self.n_samples = n_samples\n",
    "        self.input_shape = input_shape\n",
    "        \n",
    "        encoder_layers = []\n",
    "        encoder_layers.append(nn.Linear(input_shape[-1], fc_size))\n",
    "        encoder_layers.append(nn.ReLU())\n",
    "        for i in range(1,num_layers):\n",
    "            encoder_layers.append(nn.Linear(fc_size//2**(i-1), fc_size//2**i))\n",
    "            encoder_layers.append(nn.ReLU())\n",
    "        self.encoder = nn.Sequential(*encoder_layers)\n",
    "            \n",
    "        self.fc_mu = nn.Linear(fc_size//2**(num_layers-1), latent_dim)\n",
    "        self.fc_logvar = nn.Linear(fc_size//2**(num_layers-1), latent_dim)\n",
    "        \n",
    "        decoder_layers = []\n",
    "        decoder_layers.append(nn.Linear(latent_dim, fc_size//2**(num_layers-1)))\n",
    "        decoder_layers.append(nn.ReLU())\n",
    "        \n",
    "        for i in range(num_layers-1):\n",
    "            decoder_layers.append(nn.Linear(fc_size//2**(num_layers-1-i), fc_size//2**(num_layers-i-2)))\n",
    "            decoder_layers.append(nn.ReLU())\n",
    "        decoder_layers.append(nn.Linear(fc_size, 2*input_shape[1]))\n",
    "        self.decoder = nn.Sequential(*decoder_layers)\n",
    "\n",
    "    def encode(self, x):\n",
    "        enc_out = self.encoder(x)\n",
    "        return self.fc_mu(enc_out), self.fc_logvar(enc_out)\n",
    "\n",
    "    def reparameterize(self, mu, logvar):\n",
    "        return mu\n",
    "        if self.training:\n",
    "            n_samples = self.n_samples\n",
    "            batch_size = mu.shape[0]\n",
    "            latent_dim = mu.shape[1]\n",
    "            eps = np.random.randn(batch_size*latent_dim*n_samples)\\\n",
    "                                 .reshape((batch_size, n_samples, latent_dim))\n",
    "            eps = convert_to_var(eps)\n",
    "            std = logvar.mul(0.5).exp_()\n",
    "            mu = mu.view(-1, 1, latent_dim)\n",
    "            std = std.view(-1, 1, latent_dim)\n",
    "            return mu + eps*std\n",
    "        else:\n",
    "            return mu\n",
    "\n",
    "    def decode(self, z):\n",
    "        dec_out = self.decoder(z)\n",
    "        if len(dec_out.shape) == 3:\n",
    "            dec_out = dec_out.view(-1, self.n_samples, self.input_shape[1], 2)\n",
    "            probs = F.softmax(dec_out, dim=-1)\n",
    "            log_probs = F.log_softmax(dec_out, dim=-1)\n",
    "            recon_x = probs[:,:,:,1]\n",
    "        else:\n",
    "            dec_out = self.decoder(z)\n",
    "            dec_out = dec_out.view(-1, self.input_shape[1], 2)\n",
    "            probs = F.softmax(dec_out, dim=-1)\n",
    "            log_probs = F.log_softmax(dec_out, dim=-1)   \n",
    "            recon_x = probs[:,:,1]\n",
    "        return recon_x, log_probs\n",
    "\n",
    "    \n",
    "    def forward(self, x):\n",
    "        mu, logvar = self.encode(x.view(self.input_shape))\n",
    "        z = self.reparameterize(mu, logvar)\n",
    "        recon_x, log_probs = self.decode(z)\n",
    "        return recon_x, log_probs, mu, logvar"
   ]
  },
  {
   "cell_type": "code",
   "execution_count": 16,
   "metadata": {
    "collapsed": true
   },
   "outputs": [],
   "source": [
    "def loss_function(log_probs, x, mu, logvar, n_samples=10):\n",
    "    #KLD = 0.5 * torch.mean(\n",
    "    #                  torch.sum(mu.pow(2) + logvar.exp() - 1 - logvar, dim=1))\n",
    "    \n",
    "    KLD = 0\n",
    "    \n",
    "    if len(log_probs.shape)==4:\n",
    "        x = x.view(-1, 1, x.shape[1]).clone()\n",
    "        x = x.repeat(1, n_samples, 1)\n",
    "        LL = torch.sum((1-x)*log_probs[:,:,:,0] + x * log_probs[:,:,:,1]) / (x.shape[0]*n_samples)\n",
    "    else:\n",
    "        LL = torch.sum((1-x)*log_probs[:,:,0] + x * log_probs[:,:,1]) / (x.shape[0])\n",
    "\n",
    "    elbo = LL - KLD\n",
    "    loss = -1 * elbo\n",
    "    return  loss, LL, KLD"
   ]
  },
  {
   "cell_type": "code",
   "execution_count": 8,
   "metadata": {
    "collapsed": true
   },
   "outputs": [],
   "source": [
    "from IPython.display import clear_output\n",
    "from tqdm import trange\n",
    "\n",
    "# функция для итераций по минибатчам, из первого семинара\n",
    "def iterate_minibatches(inputs, batchsize, shuffle=True):\n",
    "    if shuffle:\n",
    "        indices = np.random.permutation(len(inputs))\n",
    "    for start_idx in trange(0, len(inputs) - batchsize + 1, batchsize):\n",
    "        if shuffle:\n",
    "            excerpt = indices[start_idx:start_idx + batchsize]\n",
    "        else:\n",
    "            excerpt = slice(start_idx, start_idx + batchsize)\n",
    "        yield inputs[excerpt]"
   ]
  },
  {
   "cell_type": "code",
   "execution_count": 27,
   "metadata": {
    "collapsed": true
   },
   "outputs": [],
   "source": [
    "def train_epoch(model, optimizer, X_adversarial=None, batchsize=32):\n",
    "    ll_log = []\n",
    "    kld_log = []\n",
    "        \n",
    "    for x_batch in iterate_minibatches(X_train, batchsize=batchsize, shuffle=True):\n",
    "        model.train()\n",
    "        data = convert_to_var(x_batch.astype(np.float32))\n",
    "        optimizer.zero_grad()\n",
    "        recon_batch, log_probs, mu, logvar = model(data)\n",
    "        loss, ll, kld = loss_function(log_probs, data, mu, logvar, model.n_samples)\n",
    "        loss.backward()\n",
    "        optimizer.step()\n",
    "        \n",
    "        ll_log.append(ll.data[0])\n",
    "        kld_log.append(kld)#(kld.data[0])\n",
    "        \n",
    "    return ll_log, kld_log"
   ]
  },
  {
   "cell_type": "code",
   "execution_count": 10,
   "metadata": {
    "collapsed": true
   },
   "outputs": [],
   "source": [
    "def train(model, optimizer, num_epochs=5, batchsize=32):\n",
    "    ll_log = []\n",
    "    kld_log = []\n",
    "    \n",
    "    for i in range(num_epochs):\n",
    "        epoch_results = train_epoch(model, optimizer, batchsize=batchsize)    \n",
    "        ll_log += epoch_results[0]\n",
    "        kld_log += epoch_results[1]\n",
    "        \n",
    "    return ll_log, kld_log"
   ]
  },
  {
   "cell_type": "code",
   "execution_count": 11,
   "metadata": {
    "collapsed": true
   },
   "outputs": [],
   "source": [
    "from matplotlib.patches import Ellipse\n",
    "\n",
    "colors = ['red', 'green', 'blue', 'orange', 'pink']\n",
    "def plot_point_with_std(mu, std):\n",
    "    fig = plt.figure(figsize=(8,6))\n",
    "    ax = fig.add_subplot(111, aspect='equal')\n",
    "\n",
    "    e = Ellipse([0,0], 6, 6)\n",
    "    e.set_alpha(0.75)\n",
    "    e.set_facecolor('white')\n",
    "    e.set_edgecolor('black')\n",
    "    ax.add_artist(e)\n",
    "\n",
    "    \n",
    "    for i in range(len(mu)):\n",
    "        e = Ellipse(mu[i], 6*std[i][0], 6*std[i][1])\n",
    "        e.set_alpha(0.25)\n",
    "        e.set_facecolor('gray')\n",
    "        ax.add_artist(e)\n",
    "\n",
    "        plt.plot(mu[i][0], mu[i][1], '.', markersize=15,\n",
    "                 color=colors[i], alpha=0.8)\n",
    "    plt.grid()\n",
    "    plt.title('title')\n",
    "    plt.xlim((-4,4))\n",
    "    plt.ylim((-4,4))"
   ]
  },
  {
   "cell_type": "code",
   "execution_count": 18,
   "metadata": {
    "collapsed": true
   },
   "outputs": [],
   "source": [
    "def plot_learning_history_with_pgs(logs, pgs, filename=None):\n",
    "    \n",
    "    ll_log, kld_log = logs[0], logs[1]\n",
    "    \n",
    "    plt.figure(figsize=(15, 5))\n",
    "    linewidth = 4\n",
    "    \n",
    "    plt.subplot(1, 3, 1)\n",
    "    plt.plot(ll_log)\n",
    "    plt.title('LL')\n",
    "    \n",
    "    plt.subplot(1, 3, 2)\n",
    "    plt.plot(kld_log)\n",
    "    plt.title('KL')\n",
    "    \n",
    "    plt.subplot(1, 3, 3)\n",
    "    plt.plot(pgs)\n",
    "    plt.axhline(y=0, color='r', linewidth=5)\n",
    "    plt.ylim(-1, 5)\n",
    "    plt.title('PG')\n",
    "    \n",
    "    plt.grid()\n",
    "    \n",
    "    if filename is not None:\n",
    "        plt.savefig(filename)\n",
    "        plt.close()"
   ]
  },
  {
   "cell_type": "code",
   "execution_count": 19,
   "metadata": {
    "collapsed": true
   },
   "outputs": [],
   "source": [
    "def plot_learning_history(logs, filename=None):\n",
    "    \n",
    "    ll_log, kld_log = logs[0], logs[1]\n",
    "    \n",
    "    plt.figure(figsize=(10, 5))\n",
    "    linewidth = 4\n",
    "    \n",
    "    plt.subplot(1, 2, 1)\n",
    "    plt.plot(ll_log)\n",
    "    plt.title('LL')\n",
    "    \n",
    "    plt.subplot(1, 2, 2)\n",
    "    plt.plot(kld_log)\n",
    "    plt.title('KL')\n",
    "    \n",
    "    plt.grid()\n",
    "    \n",
    "    if filename is not None:\n",
    "        plt.savefig(filename)\n",
    "        plt.close()"
   ]
  },
  {
   "cell_type": "code",
   "execution_count": 20,
   "metadata": {
    "collapsed": true
   },
   "outputs": [],
   "source": [
    "dim = 50\n",
    "num_classes = 5"
   ]
  },
  {
   "cell_type": "code",
   "execution_count": 21,
   "metadata": {
    "collapsed": true
   },
   "outputs": [],
   "source": [
    "def get_one_hot_object(obj_class, dim, num_classes):\n",
    "    x = np.zeros(dim)\n",
    "    x[:(dim//num_classes) * (obj_class+1)] = 1\n",
    "    return x"
   ]
  },
  {
   "cell_type": "code",
   "execution_count": 22,
   "metadata": {
    "collapsed": true
   },
   "outputs": [],
   "source": [
    "X_train = []\n",
    "num_per_class = 250\n",
    "for i in range(num_classes):\n",
    "    for j in range(num_per_class):\n",
    "        X_train.append(get_one_hot_object(i,\n",
    "                                          dim, num_classes))\n",
    "X_train = np.array(X_train)"
   ]
  },
  {
   "cell_type": "code",
   "execution_count": 24,
   "metadata": {},
   "outputs": [
    {
     "data": {
      "text/plain": [
       "(1250, 50)"
      ]
     },
     "execution_count": 24,
     "metadata": {},
     "output_type": "execute_result"
    }
   ],
   "source": [
    "X_train.shape"
   ]
  },
  {
   "cell_type": "markdown",
   "metadata": {
    "collapsed": true
   },
   "source": [
    "## Обучение по батчам, 2 слоя"
   ]
  },
  {
   "cell_type": "code",
   "execution_count": 25,
   "metadata": {},
   "outputs": [
    {
     "data": {
      "text/plain": [
       "(1250, 50)"
      ]
     },
     "execution_count": 25,
     "metadata": {},
     "output_type": "execute_result"
    }
   ],
   "source": [
    "X_train.shape"
   ]
  },
  {
   "cell_type": "code",
   "execution_count": 49,
   "metadata": {
    "scrolled": true
   },
   "outputs": [
    {
     "name": "stdout",
     "output_type": "stream",
     "text": [
      "CPU times: user 1min 39s, sys: 980 ms, total: 1min 40s\n",
      "Wall time: 58.4 s\n"
     ]
    }
   ],
   "source": [
    "%%time\n",
    "model = VAE(latent_dim=2, input_shape=(-1,dim), n_samples=25, fc_size=1024, num_layers=2)\n",
    "optimizer = optim.Adam(model.parameters(), lr=1e-4)\n",
    "train_logs = train(model, optimizer, num_epochs=25, batchsize=32)\n",
    "clear_output()"
   ]
  },
  {
   "cell_type": "code",
   "execution_count": 50,
   "metadata": {},
   "outputs": [
    {
     "data": {
      "image/png": "[encoded data removed]",
      "text/plain": [
       "<matplotlib.figure.Figure at 0x7f246b3925c0>"
      ]
     },
     "metadata": {},
     "output_type": "display_data"
    }
   ],
   "source": [
    "plot_learning_history(train_logs)"
   ]
  },
  {
   "cell_type": "code",
   "execution_count": 51,
   "metadata": {},
   "outputs": [
    {
     "data": {
      "text/plain": [
       "[-0.0001942259114002809,\n",
       " -0.0001761403982527554,\n",
       " -0.00019068703113589436,\n",
       " -0.00021402459242381155,\n",
       " -0.00016134213365148753,\n",
       " -0.0001608076854608953,\n",
       " -0.00018918894056696445,\n",
       " -0.00018799769168253988,\n",
       " -0.00020422287343535572,\n",
       " -0.0001434634905308485]"
      ]
     },
     "execution_count": 51,
     "metadata": {},
     "output_type": "execute_result"
    }
   ],
   "source": [
    "train_logs[0][-10:]"
   ]
  },
  {
   "cell_type": "code",
   "execution_count": 52,
   "metadata": {
    "collapsed": true
   },
   "outputs": [],
   "source": [
    "X_test = []\n",
    "for i in range(num_classes):\n",
    "    X_test.append(get_one_hot_object(i, dim, num_classes))\n",
    "X_test = np.array(X_test)"
   ]
  },
  {
   "cell_type": "code",
   "execution_count": 53,
   "metadata": {
    "collapsed": true
   },
   "outputs": [],
   "source": [
    "model.eval()\n",
    "recon_batch, log_probs, mu, logvar = model(convert_to_var(X_test))\n",
    "recon_batch = recon_batch.data.numpy()\n",
    "log_probs = log_probs.data.numpy()\n",
    "mu = mu.data.numpy()\n",
    "logvar = logvar.data.numpy()\n",
    "std = np.exp(0.5*logvar)"
   ]
  },
  {
   "cell_type": "code",
   "execution_count": 54,
   "metadata": {},
   "outputs": [
    {
     "data": {
      "text/plain": [
       "array([[-2.3352776, -4.7892923],\n",
       "       [ 1.5577629, -8.46534  ],\n",
       "       [ 5.805835 , -8.468763 ],\n",
       "       [ 9.456207 , -6.037099 ],\n",
       "       [11.3081875, -1.0046892]], dtype=float32)"
      ]
     },
     "execution_count": 54,
     "metadata": {},
     "output_type": "execute_result"
    }
   ],
   "source": [
    "mu"
   ]
  },
  {
   "cell_type": "code",
   "execution_count": 55,
   "metadata": {},
   "outputs": [
    {
     "data": {
      "text/plain": [
       "array([[1.091523  , 0.9212536 ],\n",
       "       [1.329749  , 0.7827269 ],\n",
       "       [1.3548592 , 0.8110431 ],\n",
       "       [1.1999933 , 0.85504854],\n",
       "       [0.9359404 , 1.0355719 ]], dtype=float32)"
      ]
     },
     "execution_count": 55,
     "metadata": {},
     "output_type": "execute_result"
    }
   ],
   "source": [
    "std"
   ]
  },
  {
   "cell_type": "code",
   "execution_count": 56,
   "metadata": {},
   "outputs": [
    {
     "data": {
      "image/png": "[encoded data removed]",
      "text/plain": [
       "<matplotlib.figure.Figure at 0x7f246b14d630>"
      ]
     },
     "metadata": {},
     "output_type": "display_data"
    }
   ],
   "source": [
    "plot_point_with_std(mu, std)"
   ]
  },
  {
   "cell_type": "code",
   "execution_count": null,
   "metadata": {
    "collapsed": true
   },
   "outputs": [],
   "source": []
  },
  {
   "cell_type": "code",
   "execution_count": null,
   "metadata": {
    "collapsed": true
   },
   "outputs": [],
   "source": []
  },
  {
   "cell_type": "markdown",
   "metadata": {},
   "source": [
    "# Онлайн-обучение"
   ]
  },
  {
   "cell_type": "markdown",
   "metadata": {},
   "source": [
    "### Стационарные данные"
   ]
  },
  {
   "cell_type": "code",
   "execution_count": 58,
   "metadata": {
    "collapsed": true
   },
   "outputs": [],
   "source": [
    "def get_obj_log_prob(model, obj, return_loss=False):\n",
    "    x = np.array([obj])\n",
    "    probs, log_probs, mu, logvar = model(convert_to_var(x))\n",
    "    \n",
    "    if return_loss:\n",
    "        loss, ll, kld = loss_function(log_probs, convert_to_var(x), mu, logvar, model.n_samples)\n",
    "\n",
    "    log_probs = log_probs.data.numpy()[0]#.mean(axis=0)\n",
    "    log_probs = log_probs[np.arange(dim), obj.astype('int64')]\n",
    "    obj_log_prob = log_probs.sum()\n",
    "\n",
    "    if return_loss:\n",
    "        return obj_log_prob, loss, ll, kld\n",
    "    else:\n",
    "        return obj_log_prob"
   ]
  },
  {
   "cell_type": "code",
   "execution_count": null,
   "metadata": {
    "collapsed": true
   },
   "outputs": [],
   "source": []
  },
  {
   "cell_type": "code",
   "execution_count": 79,
   "metadata": {
    "collapsed": true
   },
   "outputs": [],
   "source": [
    "def run(x_shedule, fc_size=1024, num_layers=2, use_adam=True,\n",
    "       lr=0.0001, momentum=0.9, weight_decay=0, eps=1e-8, centered=False,\n",
    "       betas=(0.9, 0.99),\n",
    "       img_name=None):\n",
    "    \n",
    "    np.random.seed(11)\n",
    "\n",
    "    model = VAE(latent_dim=2, input_shape=(-1, dim),\n",
    "                n_samples=25, fc_size=fc_size, num_layers=num_layers)\n",
    "\n",
    "    if use_adam:\n",
    "        optimizer = optim.Adam(model.parameters(), lr=lr, betas=betas,\n",
    "                               weight_decay=weight_decay, eps=eps)\n",
    "    else:\n",
    "        optimizer = optim.RMSprop(model.parameters(), lr=lr, momentum=momentum,\n",
    "                                  weight_decay=weight_decay, eps=eps, centered=centered)\n",
    "\n",
    "    pgs = []\n",
    "    train_logs = [[] for _ in range(2)]\n",
    "    num_steps = int(1e3)\n",
    "    \n",
    "    for t in range(len(x_shedule)):\n",
    "        model.train()\n",
    "        cur_class = x_shedule[t]\n",
    "        obj = get_one_hot_object(cur_class, dim, num_classes)\n",
    "\n",
    "        log_prob_before, loss, ll, kld = get_obj_log_prob(model, obj, return_loss=True)\n",
    "\n",
    "        train_logs[0].append(ll.data.numpy()[0])\n",
    "        train_logs[1].append(kld)#(kld.data.numpy()[0])\n",
    "\n",
    "        optimizer.zero_grad()\n",
    "        loss.backward()\n",
    "        optimizer.step()\n",
    "\n",
    "        log_prob_after = get_obj_log_prob(model, obj, return_loss=False)\n",
    "\n",
    "        pg = log_prob_after - log_prob_before\n",
    "        pgs.append(pg)\n",
    "\n",
    "                \n",
    "    if img_name is not None:\n",
    "        plot_learning_history_with_pgs(train_logs, pgs, filename=img_name)\n",
    "    else:\n",
    "        plot_learning_history_with_pgs(train_logs, pgs)\n",
    "    \n",
    "    pgs = np.array(pgs)\n",
    "    pct = (pgs < 0).mean()\n",
    "    \n",
    "    lls = np.array(train_logs[0])\n",
    "    mean_last_ll = lls[-10:].mean()\n",
    "    \n",
    "    return mean_last_ll, pct"
   ]
  },
  {
   "cell_type": "code",
   "execution_count": null,
   "metadata": {
    "collapsed": true
   },
   "outputs": [],
   "source": []
  },
  {
   "cell_type": "markdown",
   "metadata": {},
   "source": [
    "##### Adam"
   ]
  },
  {
   "cell_type": "code",
   "execution_count": 72,
   "metadata": {
    "collapsed": true
   },
   "outputs": [],
   "source": [
    "x_shedule = [np.random.randint(5) for _ in range(1000)]"
   ]
  },
  {
   "cell_type": "code",
   "execution_count": 74,
   "metadata": {},
   "outputs": [
    {
     "name": "stdout",
     "output_type": "stream",
     "text": [
      "-0.00029768478\n",
      "0.0\n",
      "CPU times: user 40.9 s, sys: 124 ms, total: 41 s\n",
      "Wall time: 13.9 s\n"
     ]
    },
    {
     "data": {
      "image/png": "[encoded data removed]",
      "text/plain": [
       "<matplotlib.figure.Figure at 0x7f246b12b630>"
      ]
     },
     "metadata": {},
     "output_type": "display_data"
    }
   ],
   "source": [
    "%%time\n",
    "results = run(x_shedule, fc_size=1024, num_layers=2,\n",
    "                         lr=0.0001, use_adam=False, momentum=0)\n",
    "mean_last_ll, pct = results\n",
    "print(mean_last_ll)\n",
    "print(pct)"
   ]
  },
  {
   "cell_type": "code",
   "execution_count": null,
   "metadata": {
    "collapsed": true
   },
   "outputs": [],
   "source": []
  },
  {
   "cell_type": "code",
   "execution_count": null,
   "metadata": {
    "collapsed": true
   },
   "outputs": [],
   "source": []
  },
  {
   "cell_type": "code",
   "execution_count": 75,
   "metadata": {
    "collapsed": true
   },
   "outputs": [],
   "source": [
    "x_shedule = [0 for i in range(500)] + [1 for i in range(500)]"
   ]
  },
  {
   "cell_type": "code",
   "execution_count": 76,
   "metadata": {},
   "outputs": [
    {
     "name": "stdout",
     "output_type": "stream",
     "text": [
      "-9.297253e-05\n",
      "0.0\n",
      "CPU times: user 39.5 s, sys: 84 ms, total: 39.6 s\n",
      "Wall time: 13.3 s\n"
     ]
    },
    {
     "data": {
      "image/png": "[encoded data removed]",
      "text/plain": [
       "<matplotlib.figure.Figure at 0x7f246b3ead30>"
      ]
     },
     "metadata": {},
     "output_type": "display_data"
    }
   ],
   "source": [
    "%%time\n",
    "results = run(x_shedule, fc_size=1024, num_layers=2,\n",
    "                         lr=0.0001, use_adam=False, momentum=0)\n",
    "mean_last_ll, pct = results\n",
    "print(mean_last_ll)\n",
    "print(pct)"
   ]
  },
  {
   "cell_type": "code",
   "execution_count": null,
   "metadata": {
    "collapsed": true
   },
   "outputs": [],
   "source": []
  },
  {
   "cell_type": "code",
   "execution_count": null,
   "metadata": {
    "collapsed": true
   },
   "outputs": [],
   "source": []
  },
  {
   "cell_type": "code",
   "execution_count": 77,
   "metadata": {
    "collapsed": true
   },
   "outputs": [],
   "source": [
    "seq_len = 100\n",
    "n_repeats = 4\n",
    "\n",
    "x_shedule = []\n",
    "for i in range(n_repeats):\n",
    "    for j in range(seq_len):\n",
    "            x_shedule.append(0)\n",
    "    for j in range(seq_len):\n",
    "            x_shedule.append(1)\n"
   ]
  },
  {
   "cell_type": "code",
   "execution_count": 80,
   "metadata": {},
   "outputs": [
    {
     "name": "stdout",
     "output_type": "stream",
     "text": [
      "-0.002015547\n",
      "0.0\n",
      "CPU times: user 31.9 s, sys: 120 ms, total: 32 s\n",
      "Wall time: 10.8 s\n"
     ]
    },
    {
     "data": {
      "image/png": "[encoded data removed]",
      "text/plain": [
       "<matplotlib.figure.Figure at 0x7f246b369400>"
      ]
     },
     "metadata": {},
     "output_type": "display_data"
    }
   ],
   "source": [
    "%%time\n",
    "results = run(x_shedule, fc_size=1024, num_layers=2,\n",
    "                         lr=0.0001, use_adam=False, momentum=0)\n",
    "mean_last_ll, pct = results\n",
    "print(mean_last_ll)\n",
    "print(pct)"
   ]
  },
  {
   "cell_type": "code",
   "execution_count": null,
   "metadata": {
    "collapsed": true
   },
   "outputs": [],
   "source": []
  },
  {
   "cell_type": "code",
   "execution_count": null,
   "metadata": {
    "collapsed": true
   },
   "outputs": [],
   "source": []
  },
  {
   "cell_type": "code",
   "execution_count": null,
   "metadata": {
    "collapsed": true
   },
   "outputs": [],
   "source": []
  },
  {
   "cell_type": "code",
   "execution_count": null,
   "metadata": {
    "collapsed": true
   },
   "outputs": [],
   "source": []
  },
  {
   "cell_type": "code",
   "execution_count": null,
   "metadata": {
    "collapsed": true
   },
   "outputs": [],
   "source": []
  },
  {
   "cell_type": "code",
   "execution_count": null,
   "metadata": {
    "collapsed": true
   },
   "outputs": [],
   "source": []
  }
 ],
 "metadata": {
  "kernelspec": {
   "display_name": "Python 3",
   "language": "python",
   "name": "python3"
  },
  "language_info": {
   "codemirror_mode": {
    "name": "ipython",
    "version": 3
   },
   "file_extension": ".py",
   "mimetype": "text/x-python",
   "name": "python",
   "nbconvert_exporter": "python",
   "pygments_lexer": "ipython3",
   "version": "3.6.2"
  }
 },
 "nbformat": 4,
 "nbformat_minor": 2
}
