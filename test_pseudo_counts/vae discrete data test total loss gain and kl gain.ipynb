{
 "cells": [
  {
   "cell_type": "code",
   "execution_count": 1,
   "metadata": {
    "collapsed": true
   },
   "outputs": [],
   "source": [
    "from __future__ import print_function\n",
    "import argparse\n",
    "import torch\n",
    "import torch.utils.data\n",
    "from torch import nn, optim\n",
    "from torch.autograd import Variable\n",
    "from torch.nn import functional as F\n",
    "from torchvision import datasets, transforms\n",
    "from torchvision.utils import save_image\n",
    "import numpy as np\n",
    "from tqdm import tqdm"
   ]
  },
  {
   "cell_type": "code",
   "execution_count": 2,
   "metadata": {
    "collapsed": true
   },
   "outputs": [],
   "source": [
    "import matplotlib.pyplot as plt\n",
    "%matplotlib inline\n",
    "from IPython.display import clear_output"
   ]
  },
  {
   "cell_type": "code",
   "execution_count": 3,
   "metadata": {
    "collapsed": true
   },
   "outputs": [],
   "source": [
    "cuda = torch.cuda.is_available()"
   ]
  },
  {
   "cell_type": "code",
   "execution_count": 4,
   "metadata": {
    "collapsed": true
   },
   "outputs": [],
   "source": [
    "use_cuda = torch.cuda.is_available()\n",
    "FloatTensor = torch.cuda.FloatTensor if use_cuda else torch.FloatTensor\n",
    "LongTensor = torch.cuda.LongTensor   if use_cuda else torch.LongTensor\n",
    "ByteTensor = torch.cuda.ByteTensor   if use_cuda else torch.ByteTensor\n",
    "def convert_to_var(arr, astype='float32', add_dim=False):\n",
    "    if add_dim:\n",
    "        arr = np.array([arr])\n",
    "    if astype == 'float32':\n",
    "        v = Variable(FloatTensor(arr.astype(astype))) \n",
    "    else:\n",
    "        v = Variable(LongTensor(arr.astype(astype)))\n",
    "    return v"
   ]
  },
  {
   "cell_type": "code",
   "execution_count": 5,
   "metadata": {
    "collapsed": true
   },
   "outputs": [],
   "source": [
    "class Flatten(nn.Module):\n",
    "    def forward(self, x):\n",
    "        return x.view(x.size()[0], -1)"
   ]
  },
  {
   "cell_type": "code",
   "execution_count": 6,
   "metadata": {
    "collapsed": true
   },
   "outputs": [],
   "source": [
    "class VAE(nn.Module):\n",
    "    def __init__(self, input_shape=(-1, 10),\n",
    "                 latent_dim=2, n_samples=10,\n",
    "                 fc_size=1024, num_layers=2):\n",
    "        super(VAE, self).__init__()\n",
    "        self.n_samples = n_samples\n",
    "        self.input_shape = input_shape\n",
    "        \n",
    "        encoder_layers = []\n",
    "        encoder_layers.append(nn.Linear(input_shape[-1], fc_size))\n",
    "        encoder_layers.append(nn.ReLU())\n",
    "        for i in range(1,num_layers):\n",
    "            encoder_layers.append(nn.Linear(fc_size//2**(i-1), fc_size//2**i))\n",
    "            encoder_layers.append(nn.ReLU())\n",
    "        self.encoder = nn.Sequential(*encoder_layers)\n",
    "            \n",
    "        self.fc_mu = nn.Linear(fc_size//2**(num_layers-1), latent_dim)\n",
    "        self.fc_logvar = nn.Linear(fc_size//2**(num_layers-1), latent_dim)\n",
    "        \n",
    "        decoder_layers = []\n",
    "        decoder_layers.append(nn.Linear(latent_dim, fc_size//2**(num_layers-1)))\n",
    "        decoder_layers.append(nn.ReLU())\n",
    "        \n",
    "        for i in range(num_layers-1):\n",
    "            decoder_layers.append(nn.Linear(fc_size//2**(num_layers-1-i), fc_size//2**(num_layers-i-2)))\n",
    "            decoder_layers.append(nn.ReLU())\n",
    "        decoder_layers.append(nn.Linear(fc_size, 2*input_shape[1]))\n",
    "        self.decoder = nn.Sequential(*decoder_layers)\n",
    "\n",
    "    def encode(self, x):\n",
    "        enc_out = self.encoder(x)\n",
    "        return self.fc_mu(enc_out), self.fc_logvar(enc_out)\n",
    "\n",
    "    def reparameterize(self, mu, logvar):\n",
    "        if self.training:\n",
    "            n_samples = self.n_samples\n",
    "            batch_size = mu.shape[0]\n",
    "            latent_dim = mu.shape[1]\n",
    "            eps = np.random.randn(batch_size*latent_dim*n_samples)\\\n",
    "                                 .reshape((batch_size, n_samples, latent_dim))\n",
    "            eps = convert_to_var(eps)\n",
    "            std = logvar.mul(0.5).exp_()\n",
    "            mu = mu.view(-1, 1, latent_dim)\n",
    "            std = std.view(-1, 1, latent_dim)\n",
    "            return mu + eps*std\n",
    "        else:\n",
    "            return mu\n",
    "\n",
    "    def decode(self, z):\n",
    "        dec_out = self.decoder(z)\n",
    "        if len(dec_out.shape) == 3:\n",
    "            dec_out = dec_out.view(-1, self.n_samples, self.input_shape[1], 2)\n",
    "            probs = F.softmax(dec_out, dim=-1)\n",
    "            log_probs = F.log_softmax(dec_out, dim=-1)\n",
    "            recon_x = probs[:,:,:,1]\n",
    "        else:\n",
    "            dec_out = self.decoder(z)\n",
    "            dec_out = dec_out.view(-1, self.input_shape[1], 2)\n",
    "            probs = F.softmax(dec_out, dim=-1)\n",
    "            log_probs = F.log_softmax(dec_out, dim=-1)   \n",
    "            recon_x = probs[:,:,1]\n",
    "        return recon_x, log_probs\n",
    "\n",
    "    \n",
    "    def forward(self, x):\n",
    "        mu, logvar = self.encode(x.view(self.input_shape))\n",
    "        z = self.reparameterize(mu, logvar)\n",
    "        recon_x, log_probs = self.decode(z)\n",
    "        return recon_x, log_probs, mu, logvar"
   ]
  },
  {
   "cell_type": "code",
   "execution_count": 7,
   "metadata": {
    "collapsed": true
   },
   "outputs": [],
   "source": [
    "def loss_function(log_probs, x, mu, logvar, n_samples=10):\n",
    "    KLD = 0.5 * torch.mean(\n",
    "                      torch.sum(mu.pow(2) + logvar.exp() - 1 - logvar, dim=1))\n",
    "    \n",
    "    if len(log_probs.shape)==4:\n",
    "        x = x.view(-1, 1, x.shape[1]).clone()\n",
    "        x = x.repeat(1, n_samples, 1)\n",
    "        LL = torch.sum((1-x)*log_probs[:,:,:,0] + x * log_probs[:,:,:,1]) / (x.shape[0]*n_samples)\n",
    "    else:\n",
    "        LL = torch.sum((1-x)*log_probs[:,:,0] + x * log_probs[:,:,1]) / (x.shape[0])\n",
    "\n",
    "    elbo = LL - KLD\n",
    "    loss = -1 * elbo\n",
    "    return  loss, LL, KLD"
   ]
  },
  {
   "cell_type": "code",
   "execution_count": 8,
   "metadata": {
    "collapsed": true
   },
   "outputs": [],
   "source": [
    "from IPython.display import clear_output\n",
    "from tqdm import trange\n",
    "\n",
    "# функция для итераций по минибатчам, из первого семинара\n",
    "def iterate_minibatches(inputs, batchsize, shuffle=True):\n",
    "    if shuffle:\n",
    "        indices = np.random.permutation(len(inputs))\n",
    "    for start_idx in trange(0, len(inputs) - batchsize + 1, batchsize):\n",
    "        if shuffle:\n",
    "            excerpt = indices[start_idx:start_idx + batchsize]\n",
    "        else:\n",
    "            excerpt = slice(start_idx, start_idx + batchsize)\n",
    "        yield inputs[excerpt]"
   ]
  },
  {
   "cell_type": "code",
   "execution_count": 9,
   "metadata": {
    "collapsed": true
   },
   "outputs": [],
   "source": [
    "from matplotlib.patches import Ellipse\n",
    "\n",
    "colors = ['red', 'green', 'blue', 'orange', 'pink']\n",
    "def plot_point_with_std(mu, std):\n",
    "    fig = plt.figure(figsize=(8,6))\n",
    "    ax = fig.add_subplot(111, aspect='equal')\n",
    "\n",
    "    e = Ellipse([0,0], 6, 6)\n",
    "    e.set_alpha(0.75)\n",
    "    e.set_facecolor('white')\n",
    "    e.set_edgecolor('black')\n",
    "    ax.add_artist(e)\n",
    "\n",
    "    \n",
    "    for i in range(len(mu)):\n",
    "        e = Ellipse(mu[i], 6*std[i][0], 6*std[i][1])\n",
    "        e.set_alpha(0.25)\n",
    "        e.set_facecolor('gray')\n",
    "        ax.add_artist(e)\n",
    "\n",
    "        plt.plot(mu[i][0], mu[i][1], '.', markersize=15,\n",
    "                 color=colors[i], alpha=0.8)\n",
    "    plt.grid()\n",
    "    plt.title('title')\n",
    "    plt.xlim((-4,4))\n",
    "    plt.ylim((-4,4))"
   ]
  },
  {
   "cell_type": "code",
   "execution_count": 10,
   "metadata": {
    "collapsed": true
   },
   "outputs": [],
   "source": [
    "def plot_learning_history_with_pgs(logs, pgs, filename=None):\n",
    "    \n",
    "    ll_log, kld_log = logs[0], logs[1]\n",
    "    \n",
    "    plt.figure(figsize=(15, 5))\n",
    "    linewidth = 4\n",
    "    \n",
    "    plt.subplot(1, 3, 1)\n",
    "    plt.plot(ll_log)\n",
    "    plt.title('LL')\n",
    "    \n",
    "    plt.subplot(1, 3, 2)\n",
    "    plt.plot(kld_log)\n",
    "    plt.title('KL')\n",
    "    \n",
    "    plt.subplot(1, 3, 3)\n",
    "    plt.plot(pgs)\n",
    "    plt.axhline(y=0, color='r', linewidth=5)\n",
    "    plt.ylim(-1, 5)\n",
    "    plt.title('PG')\n",
    "    \n",
    "    plt.grid()\n",
    "    \n",
    "    if filename is not None:\n",
    "        plt.savefig(filename)\n",
    "        plt.close()"
   ]
  },
  {
   "cell_type": "code",
   "execution_count": 11,
   "metadata": {
    "collapsed": true
   },
   "outputs": [],
   "source": [
    "dim = 50\n",
    "num_classes = 5"
   ]
  },
  {
   "cell_type": "code",
   "execution_count": 12,
   "metadata": {
    "collapsed": true
   },
   "outputs": [],
   "source": [
    "def get_one_hot_object(obj_class, dim, num_classes):\n",
    "    x = np.zeros(dim)\n",
    "    x[:(dim//num_classes) * (obj_class+1)] = 1\n",
    "    return x"
   ]
  },
  {
   "cell_type": "markdown",
   "metadata": {},
   "source": [
    "# Онлайн-обучение"
   ]
  },
  {
   "cell_type": "markdown",
   "metadata": {},
   "source": [
    "### Стационарные данные"
   ]
  },
  {
   "cell_type": "code",
   "execution_count": 13,
   "metadata": {
    "collapsed": true
   },
   "outputs": [],
   "source": [
    "def get_obj_log_prob(model, obj, return_loss=False):\n",
    "    x = np.array([obj])\n",
    "    probs, log_probs, mu, logvar = model(convert_to_var(x))\n",
    "    \n",
    "    if return_loss:\n",
    "        loss, ll, kld = loss_function(log_probs, convert_to_var(x), mu, logvar, model.n_samples)\n",
    "\n",
    "    log_probs = log_probs.data.numpy()[0].mean(axis=0)\n",
    "    log_probs = log_probs[np.arange(dim), obj.astype('int64')]\n",
    "    obj_log_prob = log_probs.sum()\n",
    "\n",
    "    if return_loss:\n",
    "        return obj_log_prob, loss, ll, kld\n",
    "    else:\n",
    "        return obj_log_prob"
   ]
  },
  {
   "cell_type": "code",
   "execution_count": 14,
   "metadata": {
    "collapsed": true
   },
   "outputs": [],
   "source": [
    "def plot_all_lls(lls):\n",
    "    n = len(lls)\n",
    "    plt.figure(figsize=(4*n,4))\n",
    "    for i in range(len(lls)):\n",
    "        plt.subplot(1,n,i+1)\n",
    "        plt.plot(lls[i],label='class {}'.format(i+1))\n",
    "        plt.legend(loc='lower right')\n",
    "        plt.grid()\n",
    "        plt.title(\"LL\")"
   ]
  },
  {
   "cell_type": "code",
   "execution_count": 26,
   "metadata": {
    "collapsed": true
   },
   "outputs": [],
   "source": [
    "def run(shedule, X_test,\n",
    "       fc_size=1024, num_layers=2, use_adam=True,\n",
    "       lr=0.0001, momentum=0.9, weight_decay=0, eps=1e-8, centered=False,\n",
    "       betas=(0.9, 0.99),\n",
    "       img_name=None):\n",
    "    \n",
    "    np.random.seed(11)\n",
    "\n",
    "    model = VAE(latent_dim=2, input_shape=(-1, dim),\n",
    "                n_samples=1000, fc_size=fc_size, num_layers=num_layers)\n",
    "\n",
    "    if use_adam:\n",
    "        optimizer = optim.Adam(model.parameters(), lr=lr, betas=betas,\n",
    "                               weight_decay=weight_decay, eps=eps)\n",
    "    else:\n",
    "        optimizer = optim.RMSprop(model.parameters(), lr=lr, momentum=momentum,\n",
    "                                  weight_decay=weight_decay, eps=eps, centered=centered)\n",
    "\n",
    "    pgs = [] # should be always positive\n",
    "    total_loss_gains = [] #should be always negative\n",
    "    kl_gains = [] \n",
    "    \n",
    "    train_logs = [[] for _ in range(2)]\n",
    "    num_steps = int(1e3)\n",
    "    \n",
    "    all_log_probs = [[] for _ in range(len(X_test))]\n",
    "    \n",
    "    for t in range(len(shedule)):\n",
    "        \n",
    "        ##################################################################################\n",
    "        model.train()\n",
    "        cur_class = shedule[t]            \n",
    "        obj = get_one_hot_object(cur_class, dim, num_classes)\n",
    "\n",
    "        log_prob_before, loss, ll, kld = get_obj_log_prob(model, obj, return_loss=True)\n",
    "\n",
    "        train_logs[0].append(ll.data.numpy()[0])\n",
    "        train_logs[1].append(kld.data.numpy()[0])\n",
    "\n",
    "        optimizer.zero_grad()\n",
    "        loss.backward()\n",
    "        optimizer.step()\n",
    "\n",
    "        log_prob_after, loss_next, ll_next, kld_next = get_obj_log_prob(model, obj, return_loss=True)\n",
    "\n",
    "        pg = log_prob_after - log_prob_before\n",
    "        pgs.append(pg)\n",
    "        \n",
    "        loss_gain = loss_next.data.numpy()[0]-loss.data.numpy()[0]\n",
    "        total_loss_gains.append(loss_gain)\n",
    "        \n",
    "        kld_gain = kld_next.data.numpy()[0] - kld.data.numpy()[0]\n",
    "        kl_gains.append(kld_gain)\n",
    "        ##################################################################################\n",
    "        for i, obj in enumerate(X_test):\n",
    "            log_prob = get_obj_log_prob(model, obj, return_loss=False)\n",
    "            all_log_probs[i].append(log_prob)\n",
    "                \n",
    "    if img_name is not None:\n",
    "        plot_learning_history_with_pgs(train_logs, pgs, filename=img_name)\n",
    "    else:\n",
    "        plot_learning_history_with_pgs(train_logs, pgs)\n",
    "        plot_all_lls(all_log_probs)\n",
    "    \n",
    "    pgs = np.array(pgs)\n",
    "    pct = (pgs < 0).mean()\n",
    "    \n",
    "    lls = np.array(train_logs[0])\n",
    "    mean_last_ll = lls[-10:].mean()\n",
    "    \n",
    "    return mean_last_ll, pct, all_log_probs, pgs, total_loss_gains, kl_gains"
   ]
  },
  {
   "cell_type": "code",
   "execution_count": 18,
   "metadata": {
    "collapsed": true
   },
   "outputs": [],
   "source": [
    "x_shedule = [np.random.randint(5) for _ in range(1000)]"
   ]
  },
  {
   "cell_type": "code",
   "execution_count": 19,
   "metadata": {
    "collapsed": true
   },
   "outputs": [],
   "source": [
    "X_test = []\n",
    "for obj_class in np.unique(x_shedule):\n",
    "    obj = get_one_hot_object(obj_class, dim, num_classes)\n",
    "    X_test.append(obj)"
   ]
  },
  {
   "cell_type": "code",
   "execution_count": 20,
   "metadata": {},
   "outputs": [
    {
     "data": {
      "text/plain": [
       "array([10., 20., 30., 40., 50.])"
      ]
     },
     "execution_count": 20,
     "metadata": {},
     "output_type": "execute_result"
    }
   ],
   "source": [
    "np.array(X_test).sum(axis=1)"
   ]
  },
  {
   "cell_type": "code",
   "execution_count": 27,
   "metadata": {},
   "outputs": [
    {
     "name": "stdout",
     "output_type": "stream",
     "text": [
      "CPU times: user 7min 43s, sys: 4.6 s, total: 7min 48s\n",
      "Wall time: 3min 39s\n"
     ]
    },
    {
     "data": {
      "image/png": "[encoded data removed]",
      "text/plain": [
       "<matplotlib.figure.Figure at 0x7f0570cabb70>"
      ]
     },
     "metadata": {},
     "output_type": "display_data"
    },
    {
     "data": {
      "image/png": "[encoded data removed]",
      "text/plain": [
       "<matplotlib.figure.Figure at 0x7f0570bfdc50>"
      ]
     },
     "metadata": {},
     "output_type": "display_data"
    }
   ],
   "source": [
    "%%time\n",
    "results = run(x_shedule,X_test,\n",
    "              fc_size=1024, num_layers=2,\n",
    "              lr=0.0001, momentum=0.5, use_adam=False)"
   ]
  },
  {
   "cell_type": "code",
   "execution_count": 28,
   "metadata": {
    "collapsed": true
   },
   "outputs": [],
   "source": [
    "mean_last_ll, pct, all_log_probs, pgs, total_loss_gains, kl_gains = results"
   ]
  },
  {
   "cell_type": "code",
   "execution_count": 29,
   "metadata": {},
   "outputs": [],
   "source": [
    "pgs = np.array(pgs)\n",
    "total_loss_gains=np.array(total_loss_gains)\n",
    "kl_gains = np.array(kl_gains)"
   ]
  },
  {
   "cell_type": "code",
   "execution_count": null,
   "metadata": {
    "collapsed": true
   },
   "outputs": [],
   "source": [
    "\n"
   ]
  },
  {
   "cell_type": "code",
   "execution_count": null,
   "metadata": {
    "collapsed": true
   },
   "outputs": [],
   "source": []
  },
  {
   "cell_type": "markdown",
   "metadata": {},
   "source": [
    "### Рассмотрим все варианты знаков"
   ]
  },
  {
   "cell_type": "code",
   "execution_count": 54,
   "metadata": {},
   "outputs": [
    {
     "name": "stdout",
     "output_type": "stream",
     "text": [
      "-1 -1 -1\n",
      "-1 -1 1\n",
      "-1 1 -1\n",
      "-1 1 1\n",
      "1 -1 -1\n",
      "1 -1 1\n",
      "1 1 -1\n",
      "1 1 1\n"
     ]
    }
   ],
   "source": [
    "for i in [-1,1]:\n",
    "    for j in [-1,1]:\n",
    "        for k in [-1,1]:\n",
    "            print(i,j,k)"
   ]
  },
  {
   "cell_type": "code",
   "execution_count": null,
   "metadata": {
    "collapsed": true
   },
   "outputs": [],
   "source": [
    "# Loss = -1*LL + KLD\n",
    "\n",
    "#(-1,-1,-1) - LL уменьш, Loss уменьш, KL уменьш => -1*LL увел меньше, чем KL уменьш - ОК - НОРМА ДЛЯ МОДЕЛИ(159).\n",
    "#(-1,-1,1) - LL уменьш, Loss уменьш, KL увел => -1*LL увел, KL увел - не ОК -------------------------------.\n",
    "\n",
    "#(-1,1,-1) - LL уменьш, Loss увел, KL уменьш => -1*LL увел, KL уменьш - ОК - НЕ НОРМА ДЛЯ МОДЕЛИ (135).\n",
    "#(-1,1, 1) - LL уменьш, Loss увел, KL увел => -1*LL увел, KL увел - ОК НЕ НОРМА ДЛЯ МОДЕЛИ (28).\n",
    "\n",
    "#(1,-1,-1) - LL увел, Loss уменьш, KL уменьш - ОК (260)\n",
    "#(1,-1,1) -  LL увел, Loss уменьш, KL увел - ОК (388)\n",
    "\n",
    "#(1,1,-1) - LL увел, Loss увел, KL уменьш - не ОК------------\n",
    "#(1,1,1) - LL увел, Loss увел, KL увел - ОК (30)"
   ]
  },
  {
   "cell_type": "code",
   "execution_count": 45,
   "metadata": {},
   "outputs": [],
   "source": [
    "from collections import defaultdict\n",
    "n = len(pgs)\n",
    "cnt = defaultdict(int)\n",
    "\n",
    "for i in range(n):\n",
    "    pg_sign = 1 if pgs[i]>=0 else -1\n",
    "    loss_sign = 1 if total_loss_gains[i]>=0 else -1\n",
    "    kl_sign = 1 if kl_gains[i] >= 0 else -1\n",
    "    \n",
    "    cnt[(pg_sign, loss_sign, kl_sign)] += 1"
   ]
  },
  {
   "cell_type": "code",
   "execution_count": 46,
   "metadata": {},
   "outputs": [
    {
     "data": {
      "text/plain": [
       "defaultdict(int,\n",
       "            {(-1, -1, -1): 159,\n",
       "             (-1, 1, -1): 135,\n",
       "             (-1, 1, 1): 28,\n",
       "             (1, -1, -1): 260,\n",
       "             (1, -1, 1): 388,\n",
       "             (1, 1, 1): 30})"
      ]
     },
     "execution_count": 46,
     "metadata": {},
     "output_type": "execute_result"
    }
   ],
   "source": [
    "cnt"
   ]
  },
  {
   "cell_type": "code",
   "execution_count": 56,
   "metadata": {},
   "outputs": [
    {
     "data": {
      "text/plain": [
       "322"
      ]
     },
     "execution_count": 56,
     "metadata": {},
     "output_type": "execute_result"
    }
   ],
   "source": [
    "(pgs<0).sum()"
   ]
  },
  {
   "cell_type": "code",
   "execution_count": 57,
   "metadata": {},
   "outputs": [
    {
     "data": {
      "text/plain": [
       "322"
      ]
     },
     "execution_count": 57,
     "metadata": {},
     "output_type": "execute_result"
    }
   ],
   "source": [
    "135+159+28"
   ]
  },
  {
   "cell_type": "markdown",
   "metadata": {},
   "source": [
    "### Вывод:\n",
    "Из 32% случаев PG<0 в 16% случаев засчет уменьшения LL уменьшается KL и в целом уменьшается Loss на объекте.\n",
    "Еще в 13% вместе с LL также уменьшается KL, но Loss в итоге все равно возрастает. И только в 3% уменьшение LL происходит одновременно с увеличением общего Loss'a и увеличением KL.\n",
    "\n",
    "Таким образом, можно полностью оправдать отрицательный PG в 16% случаев, и еще в 13% предположить, что модель делала ставку на уменьшение LL ради уменьшения KL, но в итоге вышло так, что общий Loss все-таки вырос.\n",
    "\n",
    "На основании этих наблюдений можно сделать предположение о том, что перенормировка суммарных составляющих оптимизируемой функции потерь может привести к уменьшению доли шагов оптимизации, при которых получается PG<0.\n"
   ]
  },
  {
   "cell_type": "code",
   "execution_count": null,
   "metadata": {
    "collapsed": true
   },
   "outputs": [],
   "source": []
  },
  {
   "cell_type": "code",
   "execution_count": null,
   "metadata": {
    "collapsed": true
   },
   "outputs": [],
   "source": []
  }
 ],
 "metadata": {
  "kernelspec": {
   "display_name": "Python 3",
   "language": "python",
   "name": "python3"
  },
  "language_info": {
   "codemirror_mode": {
    "name": "ipython",
    "version": 3
   },
   "file_extension": ".py",
   "mimetype": "text/x-python",
   "name": "python",
   "nbconvert_exporter": "python",
   "pygments_lexer": "ipython3",
   "version": "3.6.2"
  }
 },
 "nbformat": 4,
 "nbformat_minor": 2
}
