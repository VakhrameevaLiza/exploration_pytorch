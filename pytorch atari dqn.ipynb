{
 "cells": [
  {
   "cell_type": "code",
   "execution_count": 1,
   "metadata": {
    "collapsed": true
   },
   "outputs": [],
   "source": [
    "import os\n",
    "if os.environ.get(\"DISPLAY\") is str and len(os.environ.get(\"DISPLAY\"))!=0:\n",
    "    !bash ../xvfb start\n",
    "    %env DISPLAY=:1"
   ]
  },
  {
   "cell_type": "code",
   "execution_count": 2,
   "metadata": {
    "collapsed": true
   },
   "outputs": [],
   "source": [
    "import gym\n",
    "import numpy as np\n",
    "import pandas as pd\n",
    "import matplotlib.pyplot as plt\n",
    "%matplotlib inline"
   ]
  },
  {
   "cell_type": "code",
   "execution_count": 3,
   "metadata": {
    "collapsed": true
   },
   "outputs": [],
   "source": [
    "from gym.core import ObservationWrapper\n",
    "from gym.spaces import Box\n",
    "from skimage.transform import resize\n",
    "from skimage.color import rgb2gray\n",
    "class PreprocessAtari(ObservationWrapper):\n",
    "    def __init__(self, env):\n",
    "        \"\"\"A gym wrapper that crops, scales image into the desired shapes and optionally grayscales it.\"\"\"\n",
    "        ObservationWrapper.__init__(self,env)        \n",
    "        self.img_size = (64, 64, 1)\n",
    "        self.observation_space = Box(0.0, 1.0, self.img_size)\n",
    "\n",
    "    def _observation(self, img):\n",
    "        img = img[50:200, 10:140, :]\n",
    "        img = resize(img, (64, 64, 3), mode='constant')\n",
    "        img = rgb2gray(img)\n",
    "        return img[:,:,np.newaxis].astype('float32')"
   ]
  },
  {
   "cell_type": "code",
   "execution_count": 4,
   "metadata": {
    "collapsed": true
   },
   "outputs": [],
   "source": [
    "import gym\n",
    "env = gym.make(\"BreakoutDeterministic-v0\") "
   ]
  },
  {
   "cell_type": "code",
   "execution_count": 5,
   "metadata": {
    "collapsed": true
   },
   "outputs": [],
   "source": [
    "env.reset()\n",
    "s, _, _, _ = env.step(0)"
   ]
  },
  {
   "cell_type": "markdown",
   "metadata": {},
   "source": [
    "## Пример обрезки изображения"
   ]
  },
  {
   "cell_type": "code",
   "execution_count": 6,
   "metadata": {},
   "outputs": [
    {
     "data": {
      "text/plain": [
       "<matplotlib.image.AxesImage at 0x7fc1600a2be0>"
      ]
     },
     "execution_count": 6,
     "metadata": {},
     "output_type": "execute_result"
    },
    {
     "data": {
      "image/png": "[encoded data removed]",
      "text/plain": [
       "<matplotlib.figure.Figure at 0x7fc160617748>"
      ]
     },
     "metadata": {},
     "output_type": "display_data"
    }
   ],
   "source": [
    "plt.figure(figsize=(8,4))\n",
    "plt.subplot(1,2,1)\n",
    "plt.imshow(s)\n",
    "plt.subplot(1,2,2)\n",
    "plt.imshow(s[50:200, 10:140, :])"
   ]
  },
  {
   "cell_type": "code",
   "execution_count": 7,
   "metadata": {},
   "outputs": [
    {
     "name": "stdout",
     "output_type": "stream",
     "text": [
      "(64, 64, 1)\n",
      "<class 'numpy.ndarray'>\n",
      "Formal tests seem fine. Here's an example of what you'll get.\n"
     ]
    },
    {
     "data": {
      "image/png": "[encoded data removed]",
      "text/plain": [
       "<matplotlib.figure.Figure at 0x7fc1747400f0>"
      ]
     },
     "metadata": {},
     "output_type": "display_data"
    }
   ],
   "source": [
    "env = gym.make(\"BreakoutDeterministic-v0\") #create raw env\n",
    "env = PreprocessAtari(env)\n",
    "\n",
    "observation_shape = env.observation_space.shape\n",
    "n_actions = env.action_space.n\n",
    "\n",
    "obs = env.reset()\n",
    "\n",
    "print(obs.shape)\n",
    "print(type(obs))\n",
    "assert obs.ndim == 3, \"observation must be [batch, time, channels] even if there's just one channel\"\n",
    "\n",
    "assert obs.shape == observation_shape\n",
    "assert obs.dtype == 'float32'\n",
    "assert len(np.unique(obs))>2, \"your image must not be binary\"\n",
    "assert 0 <= np.min(obs) and np.max(obs) <=1, \"convert image pixels to (0,1) range\"\n",
    "\n",
    "print(\"Formal tests seem fine. Here's an example of what you'll get.\")\n",
    "\n",
    "plt.title(\"what your network gonna see\")\n",
    "plt.imshow(obs[:,:,0],interpolation='none',cmap='gray');\n"
   ]
  },
  {
   "cell_type": "code",
   "execution_count": 8,
   "metadata": {
    "collapsed": true
   },
   "outputs": [],
   "source": [
    "from framebuffer import FrameBuffer\n",
    "def make_env():\n",
    "    env = gym.make(\"BreakoutDeterministic-v4\")\n",
    "    env = PreprocessAtari(env)\n",
    "    env = FrameBuffer(env, n_frames=4, dim_order='pytorch')\n",
    "    return env\n",
    "\n",
    "env = make_env()\n",
    "env.reset()\n",
    "n_actions = env.action_space.n\n",
    "state_dim = env.observation_space.shape"
   ]
  },
  {
   "cell_type": "code",
   "execution_count": 9,
   "metadata": {},
   "outputs": [
    {
     "data": {
      "text/plain": [
       "(4, 64, 64)"
      ]
     },
     "execution_count": 9,
     "metadata": {},
     "output_type": "execute_result"
    }
   ],
   "source": [
    "state_dim"
   ]
  },
  {
   "cell_type": "code",
   "execution_count": 10,
   "metadata": {},
   "outputs": [
    {
     "data": {
      "image/png": "[encoded data removed]",
      "text/plain": [
       "<matplotlib.figure.Figure at 0x7fc15c6bfe48>"
      ]
     },
     "metadata": {},
     "output_type": "display_data"
    },
    {
     "data": {
      "text/plain": [
       "<matplotlib.image.AxesImage at 0x7fc15c676f60>"
      ]
     },
     "execution_count": 10,
     "metadata": {},
     "output_type": "execute_result"
    },
    {
     "data": {
      "image/png": "[encoded data removed]",
      "text/plain": [
       "<matplotlib.figure.Figure at 0x7fc15c676f98>"
      ]
     },
     "metadata": {},
     "output_type": "display_data"
    }
   ],
   "source": [
    "for _ in range(50):\n",
    "    obs, _, _, _ = env.step(env.action_space.sample())\n",
    "plt.title(\"Game image\")\n",
    "plt.imshow(env.render(\"rgb_array\"))\n",
    "plt.show()\n",
    "plt.title(\"Agent observation (4 frames left to right)\")\n",
    "plt.imshow(np.hstack([obs[0], obs[1], obs[2], obs[3]]))"
   ]
  },
  {
   "cell_type": "code",
   "execution_count": 11,
   "metadata": {
    "collapsed": true
   },
   "outputs": [],
   "source": [
    "def evaluate(env, model, n_games=1, greedy=False, t_max=10000):\n",
    "    \"\"\" Plays n_games full games. If greedy, picks actions as argmax(qvalues). Returns mean reward. \"\"\"\n",
    "    num_actions = env.action_space.n\n",
    "    rewards = []\n",
    "    for _ in range(n_games):\n",
    "        s = env.reset()\n",
    "        reward = 0\n",
    "        for _ in range(t_max):\n",
    "            action = epsilon_greedy_act(s[np.newaxis], num_actions, model, 0)\n",
    "            s, r, done, _ = env.step(action)\n",
    "            reward += r\n",
    "            if done: break\n",
    "                \n",
    "        rewards.append(reward)\n",
    "    return np.mean(rewards)"
   ]
  },
  {
   "cell_type": "markdown",
   "metadata": {},
   "source": [
    "## Архитектура сети"
   ]
  },
  {
   "cell_type": "code",
   "execution_count": 12,
   "metadata": {
    "collapsed": true
   },
   "outputs": [],
   "source": [
    "import numpy as np"
   ]
  },
  {
   "cell_type": "code",
   "execution_count": 13,
   "metadata": {},
   "outputs": [
    {
     "data": {
      "text/plain": [
       "0.25"
      ]
     },
     "execution_count": 13,
     "metadata": {},
     "output_type": "execute_result"
    }
   ],
   "source": [
    "500*5000/10e6"
   ]
  },
  {
   "cell_type": "code",
   "execution_count": 14,
   "metadata": {
    "collapsed": true
   },
   "outputs": [],
   "source": [
    "import torch\n",
    "import torch.nn as nn\n",
    "import torch.nn.functional as F\n",
    "from torch.autograd import Variable\n",
    "from tensorboardX import SummaryWriter"
   ]
  },
  {
   "cell_type": "code",
   "execution_count": 26,
   "metadata": {
    "collapsed": true
   },
   "outputs": [],
   "source": [
    "from helpers.replay_buffer import ReplayBuffer\n",
    "from helpers.shedules import LinearSchedule\n",
    "from helpers.create_empty_directory import create_empty_directory"
   ]
  },
  {
   "cell_type": "code",
   "execution_count": 27,
   "metadata": {
    "collapsed": true
   },
   "outputs": [],
   "source": [
    "import copy\n",
    "from IPython.display import clear_output\n"
   ]
  },
  {
   "cell_type": "code",
   "execution_count": 17,
   "metadata": {
    "collapsed": true
   },
   "outputs": [],
   "source": [
    "use_cuda = torch.cuda.is_available()"
   ]
  },
  {
   "cell_type": "code",
   "execution_count": 18,
   "metadata": {
    "collapsed": true
   },
   "outputs": [],
   "source": [
    "use_cuda = torch.cuda.is_available()\n",
    "FloatTensor = torch.cuda.FloatTensor if use_cuda else torch.FloatTensor\n",
    "LongTensor = torch.cuda.LongTensor   if use_cuda else torch.LongTensor\n",
    "ByteTensor = torch.cuda.ByteTensor   if use_cuda else torch.ByteTensor\n",
    "def convert_to_var(arr, astype='float32', add_dim=False):\n",
    "    if add_dim:\n",
    "        arr = np.array([arr])\n",
    "    if astype == 'float32':\n",
    "        v = Variable(FloatTensor(arr.astype(astype))) \n",
    "    else:\n",
    "        v = Variable(LongTensor(arr.astype(astype)))\n",
    "    return v"
   ]
  },
  {
   "cell_type": "code",
   "execution_count": 19,
   "metadata": {
    "collapsed": true
   },
   "outputs": [],
   "source": [
    "class DQNnet(nn.Module):\n",
    "    def __init__(self, num_actions):\n",
    "        super().__init__()\n",
    "        self.conv_net = nn.Sequential(\n",
    "                            nn.Conv2d(in_channels=4, out_channels=16, \n",
    "                                      stride=2, kernel_size=3,\n",
    "                                      ),\n",
    "                            nn.ReLU(),\n",
    "            \n",
    "                            nn.Conv2d(in_channels=16, out_channels=32, \n",
    "                                      stride=2, kernel_size=3,\n",
    "                                      ),\n",
    "                            nn.ReLU(),\n",
    "            \n",
    "                            nn.Conv2d(in_channels=32, out_channels=64, \n",
    "                                      stride=2, kernel_size=3,\n",
    "                                      ),\n",
    "                            nn.ReLU()\n",
    "                            )\n",
    "        self.fc_net = nn.Sequential(\n",
    "                            nn.Linear(64*7*7, 512),\n",
    "                            nn.ReLU(),\n",
    "                            nn.Linear(512, num_actions),\n",
    "                            )\n",
    "    def forward(self, x):\n",
    "        conv_out = self.conv_net(x)\n",
    "        out = self.fc_net(conv_out.view(-1, 64*7*7))\n",
    "        return out"
   ]
  },
  {
   "cell_type": "code",
   "execution_count": 20,
   "metadata": {
    "collapsed": true
   },
   "outputs": [],
   "source": [
    "def optimize_dqn_loss(optimizer, model, target_model, batch, gamma,\n",
    "                      target_type='double_q_learning', tau=None, double_dqn=True,\n",
    "                     ):\n",
    "\n",
    "    states_batch, actions_batch, rewards_batch, next_states_batch, dones_batch = batch\n",
    "    states_batch_var = convert_to_var(states_batch)\n",
    "    actions_batch_var = convert_to_var(actions_batch[:, np.newaxis], astype='int64')\n",
    "    rewards_batch_var = convert_to_var(rewards_batch)\n",
    "    next_states_batch_var = convert_to_var(next_states_batch)\n",
    "    dones_batch_var = convert_to_var(dones_batch)\n",
    "    q_values = model.forward(states_batch_var).gather(1, actions_batch_var)\n",
    "\n",
    "    if target_type == 'standard_q_learning':\n",
    "        next_q_values = target_model.forward(next_states_batch_var).detach()\n",
    "        best_next_q_values = next_q_values.max(dim=1)[0]\n",
    "        best_next_q_values[dones_batch_var.byte()] = 0\n",
    "        q_values_targets = rewards_batch_var + gamma * best_next_q_values\n",
    "\n",
    "    elif target_type == 'double_q_learning':\n",
    "        all_next_q_values = target_model.forward(next_states_batch_var).detach()\n",
    "        argmax = torch.max(model.forward(next_states_batch_var), dim=1)[1]\n",
    "        best_next_q_values = all_next_q_values.gather(1, argmax.view((-1, 1)))[:,0]\n",
    "        best_next_q_values[dones_batch_var.byte()] = 0\n",
    "        q_values_targets = rewards_batch_var + gamma * best_next_q_values\n",
    "\n",
    "    mse_loss_func = nn.MSELoss()\n",
    "    loss = mse_loss_func(q_values, q_values_targets)\n",
    "\n",
    "    optimizer.zero_grad()\n",
    "    loss.backward()\n",
    "    optimizer.step()\n",
    "    return loss.data[0]\n",
    "    \n",
    "    \n",
    "def epsilon_greedy_act(state, num_actions, model, eps_t):\n",
    "    state_var = convert_to_var(state)\n",
    "    q_values = model.forward(state_var).data.numpy()[0]\n",
    "    if np.random.rand() < eps_t:\n",
    "        action = np.random.randint(num_actions)\n",
    "    else:\n",
    "        action = q_values.argmax()\n",
    "    return action\n"
   ]
  },
  {
   "cell_type": "code",
   "execution_count": 21,
   "metadata": {
    "collapsed": true
   },
   "outputs": [],
   "source": [
    "from datetime import  datetime"
   ]
  },
  {
   "cell_type": "code",
   "execution_count": 31,
   "metadata": {
    "collapsed": true
   },
   "outputs": [],
   "source": [
    "batch_size = 64\n",
    "\n",
    "def train(env,\n",
    "          eps_greedy_exploration_params,\n",
    "          gamma=0.99,\n",
    "          max_steps=int(10e6),\n",
    "          learning_starts_in_steps=5000,\n",
    "          train_freq_in_steps=10,\n",
    "          update_freq_in_steps=5000,\n",
    "          plot_freq_in_steps=1000,\n",
    "          seed=None,\n",
    "          lr=1e-4\n",
    "          ):\n",
    "    if seed:\n",
    "        np.random.seed(seed)\n",
    "        torch.manual_seed(seed)\n",
    "    \n",
    "    num_actions = env.action_space.n\n",
    "    dim_states = env.observation_space.shape[0]\n",
    "\n",
    "    # define models\n",
    "    model = DQNnet(num_actions)\n",
    "    target_model = copy.deepcopy(model)\n",
    "    \n",
    "    # define optimizator\n",
    "    optimizer = torch.optim.Adam(model.parameters(), lr=lr)\n",
    "    \n",
    "    # define shedule of epsilon in epsilon-greedy exploration\n",
    "    schedule_timesteps=int(eps_greedy_exploration_params['exploration_fraction']*max_steps)\n",
    "    eps_shedule = LinearSchedule(schedule_timesteps=schedule_timesteps,\n",
    "                                 initial_p=1.0,\n",
    "                                 final_p=eps_greedy_exploration_params['exploration_final_eps'])\n",
    "    folder = 'logs/breakout'\n",
    "    create_empty_directory(folder)\n",
    "    writer = SummaryWriter(folder)\n",
    "    \n",
    "    replay_buffer = ReplayBuffer(100000, seed=seed)\n",
    "    num_episodes = 0\n",
    "    episode_rew = 0\n",
    "    episode_rewards = []\n",
    "    evaluations=[]\n",
    "    losses=[]\n",
    "    state = env.reset()\n",
    "    \n",
    "    t_start = datetime.now()\n",
    "    \n",
    "    for t in range(max_steps):\n",
    "        eps_t = eps_shedule.value(t)\n",
    "        writer.add_scalar('dqn/eps_t', eps_t, t)\n",
    "        \n",
    "        action = epsilon_greedy_act(state[np.newaxis], num_actions, model, eps_t)\n",
    "        writer.add_scalar('dqn/action_t', action, t)\n",
    "        next_state, rew, done, _ = env.step(action)\n",
    "        episode_rew += rew\n",
    "        replay_buffer.add(state, action, rew, next_state, done)\n",
    "        state = next_state\n",
    "        \n",
    "        if done:\n",
    "            num_episodes += 1\n",
    "            episode_rewards.append(episode_rew)\n",
    "            writer.add_scalar('dqn/episode_rew', episode_rew, num_episodes)\n",
    "            episode_rew=0\n",
    "            state = env.reset()\n",
    "\n",
    "        if t >= learning_starts_in_steps and t % train_freq_in_steps == 0:\n",
    "            batch = replay_buffer.sample(batch_size)\n",
    "            loss = optimize_dqn_loss(optimizer, model, target_model, batch, gamma,\n",
    "                                    target_type='standard_q_learning')\n",
    "            losses.append(loss)\n",
    "            writer.add_scalar('dqn/loss_t', loss, t)\n",
    "        else:\n",
    "            loss = 0\n",
    "            \n",
    "        if t > learning_starts_in_steps and t % update_freq_in_steps == 0:\n",
    "            target_model = copy.deepcopy(model)\n",
    "            \n",
    "        if t % 1000 == 0:            \n",
    "            clear_output(True)\n",
    "            time_in_minutes = (datetime.now() - t_start).total_seconds()/60\n",
    "            print(\"time passed %.2f minutes\"%time_in_minutes)\n",
    "            print(\"t = %i, num episode=%i, epsilon = %.5f\" % (t, num_episodes, eps_t))\n",
    "            print(\"Mean rewards per last 100 episodes: %.1f\" % np.mean(episode_rewards[-100:]))\n",
    "            \n",
    "            plt.figure(figsize=[12, 4])\n",
    "            plt.subplot(1,2,1)\n",
    "            plt.title(\"mean reward per episode\")\n",
    "            plt.plot(episode_rewards)\n",
    "            plt.grid()\n",
    "\n",
    "            assert not np.isnan(loss)\n",
    "            plt.figure(figsize=[12, 4])\n",
    "            plt.subplot(1,2,2)\n",
    "            plt.title(\"TD loss history (moving average)\")\n",
    "            plt.plot(pd.ewma(np.array(losses), span=100, min_periods=100))\n",
    "            plt.grid()\n",
    "            plt.show()"
   ]
  },
  {
   "cell_type": "code",
   "execution_count": 32,
   "metadata": {
    "collapsed": true
   },
   "outputs": [],
   "source": [
    "eps_greedy_exploration_params = {'exploration_fraction': 0.25,\n",
    "                                 'exploration_final_eps': 0.1}"
   ]
  },
  {
   "cell_type": "code",
   "execution_count": 33,
   "metadata": {
    "collapsed": true
   },
   "outputs": [],
   "source": [
    "schedule_timesteps=int(eps_greedy_exploration_params['exploration_fraction']*10**6)\n",
    "eps_shedule = LinearSchedule(schedule_timesteps=schedule_timesteps,\n",
    "                             initial_p=1.0,\n",
    "                             final_p=eps_greedy_exploration_params['exploration_final_eps'])\n"
   ]
  },
  {
   "cell_type": "code",
   "execution_count": null,
   "metadata": {
    "collapsed": true
   },
   "outputs": [],
   "source": []
  },
  {
   "cell_type": "code",
   "execution_count": null,
   "metadata": {
    "collapsed": true
   },
   "outputs": [],
   "source": []
  },
  {
   "cell_type": "code",
   "execution_count": null,
   "metadata": {
    "collapsed": true
   },
   "outputs": [],
   "source": []
  },
  {
   "cell_type": "code",
   "execution_count": null,
   "metadata": {
    "scrolled": false
   },
   "outputs": [
    {
     "name": "stdout",
     "output_type": "stream",
     "text": [
      "time passed 41.81 minutes\n",
      "t = 96000, num episode=544, epsilon = 0.96544\n",
      "Mean rewards per last 100 episodes: 1.0\n"
     ]
    },
    {
     "data": {
      "image/png": "[encoded data removed]",
      "text/plain": [
       "<matplotlib.figure.Figure at 0x7fc14cab6278>"
      ]
     },
     "metadata": {},
     "output_type": "display_data"
    },
    {
     "data": {
      "image/png": "[encoded data removed]",
      "text/plain": [
       "<matplotlib.figure.Figure at 0x7fc1540a4be0>"
      ]
     },
     "metadata": {},
     "output_type": "display_data"
    }
   ],
   "source": [
    "train(make_env(), eps_greedy_exploration_params)"
   ]
  },
  {
   "cell_type": "code",
   "execution_count": null,
   "metadata": {
    "collapsed": true
   },
   "outputs": [],
   "source": [
    "53000-6.18"
   ]
  },
  {
   "cell_type": "code",
   "execution_count": null,
   "metadata": {
    "collapsed": true
   },
   "outputs": [],
   "source": []
  },
  {
   "cell_type": "code",
   "execution_count": null,
   "metadata": {
    "collapsed": true
   },
   "outputs": [],
   "source": []
  },
  {
   "cell_type": "code",
   "execution_count": null,
   "metadata": {
    "collapsed": true
   },
   "outputs": [],
   "source": []
  },
  {
   "cell_type": "code",
   "execution_count": null,
   "metadata": {
    "collapsed": true
   },
   "outputs": [],
   "source": []
  },
  {
   "cell_type": "code",
   "execution_count": null,
   "metadata": {
    "collapsed": true
   },
   "outputs": [],
   "source": []
  },
  {
   "cell_type": "code",
   "execution_count": null,
   "metadata": {
    "collapsed": true
   },
   "outputs": [],
   "source": []
  },
  {
   "cell_type": "code",
   "execution_count": null,
   "metadata": {
    "collapsed": true
   },
   "outputs": [],
   "source": []
  },
  {
   "cell_type": "code",
   "execution_count": null,
   "metadata": {
    "collapsed": true
   },
   "outputs": [],
   "source": []
  },
  {
   "cell_type": "code",
   "execution_count": null,
   "metadata": {
    "collapsed": true
   },
   "outputs": [],
   "source": []
  },
  {
   "cell_type": "code",
   "execution_count": null,
   "metadata": {
    "collapsed": true
   },
   "outputs": [],
   "source": []
  },
  {
   "cell_type": "code",
   "execution_count": null,
   "metadata": {
    "collapsed": true
   },
   "outputs": [],
   "source": []
  }
 ],
 "metadata": {
  "kernelspec": {
   "display_name": "Python 3",
   "language": "python",
   "name": "python3"
  },
  "language_info": {
   "codemirror_mode": {
    "name": "ipython",
    "version": 3
   },
   "file_extension": ".py",
   "mimetype": "text/x-python",
   "name": "python",
   "nbconvert_exporter": "python",
   "pygments_lexer": "ipython3",
   "version": "3.6.2"
  }
 },
 "nbformat": 4,
 "nbformat_minor": 2
}
