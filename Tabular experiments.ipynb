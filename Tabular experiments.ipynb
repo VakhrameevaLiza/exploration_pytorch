{
 "cells": [
  {
   "cell_type": "code",
   "execution_count": 51,
   "metadata": {
    "collapsed": true
   },
   "outputs": [],
   "source": [
    "import numpy as np\n",
    "import matplotlib.pyplot as plt\n",
    "%matplotlib inline"
   ]
  },
  {
   "cell_type": "code",
   "execution_count": 52,
   "metadata": {
    "collapsed": true
   },
   "outputs": [],
   "source": [
    "from helpers.replay_buffer import ReplayBuffer\n",
    "from helpers.chain_environment import SimpleChain\n",
    "from helpers.shedules import LinearSchedule\n",
    "from helpers.create_empty_directory import create_empty_directory\n",
    "from helpers.plots import plot_q_func_and_visitations"
   ]
  },
  {
   "cell_type": "code",
   "execution_count": 53,
   "metadata": {
    "collapsed": true
   },
   "outputs": [],
   "source": [
    "from tabular_Q import tabular_q_learning"
   ]
  },
  {
   "cell_type": "code",
   "execution_count": 54,
   "metadata": {
    "collapsed": true
   },
   "outputs": [],
   "source": [
    "dim_range = np.arange(5, 105, 5)\n",
    "seed_range = np.array([10, 42, 51, 38, 50])\n",
    "eps_params = {'exploration_fraction': 0.25,\n",
    "              'exploration_final_eps': 0.001}\n"
   ]
  },
  {
   "cell_type": "code",
   "execution_count": 5,
   "metadata": {
    "collapsed": true
   },
   "outputs": [],
   "source": [
    "common_params = dict(num_episodes=2000, gamma=0.99, lr=0.5, alpha=1.0,\n",
    "                 img_folder=None, print_logs=False)\n",
    "\n",
    "experiments = []\n",
    "\n",
    "experiments.append({'name': 'eps_greedy',\n",
    "                    'params': dict(eps_params=eps_params, act_type='argmax', reward_shaping_type=None),\n",
    "                    'iterate_seeds': True})\n",
    "# ----------------------------------------------------------------------------- #\n",
    "experiments.append({'name': 'ucb-1',\n",
    "                    'params': dict(eps_params=None, act_type='ucb-1', reward_shaping_type=None),\n",
    "                    'iterate_seeds': True})\n",
    "\n",
    "\n",
    "experiments.append({'name': 'ucb-2',\n",
    "                    'params': dict(eps_params=None, act_type='ucb-2', reward_shaping_type=None),\n",
    "                    'iterate_seeds': True})\n",
    "# ----------------------------------------------------------------------------- #\n",
    "experiments.append({'name': 'count_based_state_action',\n",
    "                    'params': dict(eps_params=None, act_type='argmax',\n",
    "                                   reward_shaping_type='count_based_state_action'),\n",
    "                    'iterate_seeds': True})\n",
    "\n",
    "experiments.append({'name': 'count_based_next_state_action',\n",
    "                    'params': dict(eps_params=None, act_type='argmax',\n",
    "                                   reward_shaping_type='count_based_next_state_action'),\n",
    "                    'iterate_seeds': True})\n",
    "\n",
    "experiments.append({'name': 'count_based_state',\n",
    "                    'params': dict(eps_params=None, act_type='argmax',\n",
    "                                   reward_shaping_type='count_based_state'),\n",
    "                    'iterate_seeds': True})\n",
    "\n",
    "experiments.append({'name': 'count_based_next_state',\n",
    "                    'params': dict(eps_params=None, act_type='argmax',\n",
    "                                   reward_shaping_type='count_based_next_state'),\n",
    "                    'iterate_seeds': True})\n",
    "# ----------------------------------------------------------------------------- #\n",
    "experiments.append({'name': 'eps_greedy_count_based_state_action',\n",
    "                    'params': dict(eps_params=eps_params, act_type='argmax',\n",
    "                                   reward_shaping_type='count_based_state_action'),\n",
    "                    'iterate_seeds': True})\n",
    "\n",
    "experiments.append({'name': 'eps_greedy_count_based_next_state_action',\n",
    "                    'params': dict(eps_params=eps_params, act_type='argmax',\n",
    "                                   reward_shaping_type='count_based_next_state_action'),\n",
    "                    'iterate_seeds': True})\n",
    "\n",
    "experiments.append({'name': 'eps_greedy_count_based_state',\n",
    "                    'params': dict(eps_params=eps_params, act_type='argmax',\n",
    "                                   reward_shaping_type='count_based_state'),\n",
    "                    'iterate_seeds': True})\n",
    "\n",
    "experiments.append({'name': 'eps_greedy_count_based_next_state',\n",
    "                    'params': dict(eps_params=eps_params, act_type='argmax',\n",
    "                                   reward_shaping_type='count_based_next_state'),\n",
    "                    'iterate_seeds': True})\n"
   ]
  },
  {
   "cell_type": "code",
   "execution_count": 6,
   "metadata": {
    "collapsed": true
   },
   "outputs": [],
   "source": [
    "global_results_folder = 'results/tabular/chain/'"
   ]
  },
  {
   "cell_type": "code",
   "execution_count": 7,
   "metadata": {},
   "outputs": [
    {
     "name": "stdout",
     "output_type": "stream",
     "text": [
      "eps_greedy\n",
      "ucb-1\n",
      "ucb-2\n",
      "count_based_state_action\n",
      "count_based_next_state_action\n",
      "count_based_state\n",
      "count_based_next_state\n",
      "eps_greedy_count_based_state_action\n",
      "eps_greedy_count_based_next_state_action\n",
      "eps_greedy_count_based_state\n",
      "eps_greedy_count_based_next_state\n",
      "CPU times: user 42min 56s, sys: 3.48 s, total: 42min 59s\n",
      "Wall time: 43min 10s\n"
     ]
    }
   ],
   "source": [
    "%%time\n",
    "\n",
    "folder = 'results/tabular/chain/'\n",
    "create_empty_directory(folder)\n",
    "\n",
    "for experiment in experiments:\n",
    "    name = experiment['name']   \n",
    "    print(name)\n",
    "    results = np.zeros((seed_range.shape[0], dim_range.shape[0]))\n",
    "    \n",
    "    for i, seed in enumerate(seed_range):\n",
    "        for j, dim in enumerate(dim_range):\n",
    "            env = SimpleChain(dim)\n",
    "            _, _, episode_rews = tabular_q_learning(env, seed=seed,\n",
    "                                                     **common_params, **experiment['params'])\n",
    "            results[i][j] = len(episode_rews)\n",
    "    np.save(folder+name, results)"
   ]
  },
  {
   "cell_type": "code",
   "execution_count": 19,
   "metadata": {
    "collapsed": true
   },
   "outputs": [],
   "source": [
    "import os\n",
    "def print_results(experiments, folder, to_print=True):\n",
    "    all_stats = []\n",
    "    for i, experiment in enumerate(experiments):\n",
    "        name = experiment['name']\n",
    "        \n",
    "        arr = np.load(folder+name+'.npy')\n",
    "        stats = np.zeros((3, arr.shape[1]))\n",
    "        stats[0] = arr.min(axis=0)\n",
    "        stats[1] = arr.mean(axis=0)\n",
    "        stats[2] = arr.max(axis=0)\n",
    "        all_stats.append(stats)\n",
    "        if to_print:\n",
    "            print(i, name)\n",
    "            print(stats[:,:5])\n",
    "            print('\\n')\n",
    "    return all_stats"
   ]
  },
  {
   "cell_type": "code",
   "execution_count": 20,
   "metadata": {},
   "outputs": [
    {
     "name": "stdout",
     "output_type": "stream",
     "text": [
      "0 eps_greedy\n",
      "[[ 582.  600. 2000. 2000. 2000.]\n",
      " [ 628.  691. 2000. 2000. 2000.]\n",
      " [ 683.  779. 2000. 2000. 2000.]]\n",
      "\n",
      "\n",
      "1 ucb-1\n",
      "[[ 105.   145.  1213.  2000.  2000. ]\n",
      " [ 108.   157.8 1762.8 2000.  2000. ]\n",
      " [ 109.   170.  2000.  2000.  2000. ]]\n",
      "\n",
      "\n",
      "2 ucb-2\n",
      "[[ 107.   143.  2000.  2000.  2000. ]\n",
      " [ 110.2  951.6 2000.  2000.  2000. ]\n",
      " [ 113.  2000.  2000.  2000.  2000. ]]\n",
      "\n",
      "\n",
      "3 count_based_state_action\n",
      "[[2000. 2000. 2000. 2000. 2000.]\n",
      " [2000. 2000. 2000. 2000. 2000.]\n",
      " [2000. 2000. 2000. 2000. 2000.]]\n",
      "\n",
      "\n",
      "4 count_based_next_state_action\n",
      "[[2000. 2000. 2000. 2000. 2000.]\n",
      " [2000. 2000. 2000. 2000. 2000.]\n",
      " [2000. 2000. 2000. 2000. 2000.]]\n",
      "\n",
      "\n",
      "5 count_based_state\n",
      "[[2000. 2000. 2000. 2000. 2000.]\n",
      " [2000. 2000. 2000. 2000. 2000.]\n",
      " [2000. 2000. 2000. 2000. 2000.]]\n",
      "\n",
      "\n",
      "6 count_based_next_state\n",
      "[[2000. 2000. 2000. 2000. 2000.]\n",
      " [2000. 2000. 2000. 2000. 2000.]\n",
      " [2000. 2000. 2000. 2000. 2000.]]\n",
      "\n",
      "\n",
      "7 eps_greedy_count_based_state_action\n",
      "[[ 583.   707.  2000.  2000.  2000. ]\n",
      " [ 643.4  883.6 2000.  2000.  2000. ]\n",
      " [ 797.  1186.  2000.  2000.  2000. ]]\n",
      "\n",
      "\n",
      "8 eps_greedy_count_based_next_state_action\n",
      "[[ 598.   664.  2000.  2000.  2000. ]\n",
      " [ 676.2 1550.6 2000.  2000.  2000. ]\n",
      " [ 759.  2000.  2000.  2000.  2000. ]]\n",
      "\n",
      "\n",
      "9 eps_greedy_count_based_state\n",
      "[[ 599.   587.  2000.  2000.  2000. ]\n",
      " [ 670.8  698.4 2000.  2000.  2000. ]\n",
      " [ 756.   781.  2000.  2000.  2000. ]]\n",
      "\n",
      "\n",
      "10 eps_greedy_count_based_next_state\n",
      "[[ 581.   586.  1156.  2000.  2000. ]\n",
      " [ 664.6  705.6 1734.8 2000.  2000. ]\n",
      " [ 756.   790.  2000.  2000.  2000. ]]\n",
      "\n",
      "\n"
     ]
    }
   ],
   "source": [
    "all_stats = print_results(experiments, 'results/tabular/chain/')"
   ]
  },
  {
   "cell_type": "code",
   "execution_count": 47,
   "metadata": {
    "collapsed": true
   },
   "outputs": [],
   "source": [
    "id_to_plot = [0,1,2,3,10]"
   ]
  },
  {
   "cell_type": "code",
   "execution_count": 50,
   "metadata": {},
   "outputs": [
    {
     "name": "stdout",
     "output_type": "stream",
     "text": [
      "eps_greedy\n",
      "[ 582.  600. 2000. 2000. 2000.]\n",
      "[ 683.  779. 2000. 2000. 2000.]\n",
      "ucb-1\n",
      "[ 105.  145. 1213. 2000. 2000.]\n",
      "[ 109.  170. 2000. 2000. 2000.]\n",
      "ucb-2\n",
      "[ 107.  143. 2000. 2000. 2000.]\n",
      "[ 113. 2000. 2000. 2000. 2000.]\n",
      "count_based_state_action\n",
      "[2000. 2000. 2000. 2000. 2000.]\n",
      "[2000. 2000. 2000. 2000. 2000.]\n",
      "eps_greedy_count_based_next_state\n",
      "[ 581.  586. 1156. 2000. 2000.]\n",
      "[ 756.  790. 2000. 2000. 2000.]\n"
     ]
    }
   ],
   "source": [
    "for i, id in enumerate(id_to_plot):\n",
    "    print(experiments[id]['name'])\n",
    "    print(all_stats[id][0,:5])\n",
    "    print(all_stats[id][2,:5])"
   ]
  },
  {
   "cell_type": "code",
   "execution_count": 55,
   "metadata": {
    "collapsed": true
   },
   "outputs": [],
   "source": [
    "import numpy as np"
   ]
  },
  {
   "cell_type": "code",
   "execution_count": 58,
   "metadata": {},
   "outputs": [
    {
     "data": {
      "text/plain": [
       "array([[ 109.,  157., 1601., 2000., 2000.],\n",
       "       [ 105.,  170., 2000., 2000., 2000.],\n",
       "       [ 108.,  145., 1213., 2000., 2000.],\n",
       "       [ 109.,  150., 2000., 2000., 2000.],\n",
       "       [ 109.,  167., 2000., 2000., 2000.]])"
      ]
     },
     "execution_count": 58,
     "metadata": {},
     "output_type": "execute_result"
    }
   ],
   "source": [
    "np.load('results/tabular/chain/ucb-1.npy')[:,:5]"
   ]
  },
  {
   "cell_type": "code",
   "execution_count": null,
   "metadata": {
    "collapsed": true
   },
   "outputs": [],
   "source": []
  },
  {
   "cell_type": "code",
   "execution_count": 30,
   "metadata": {
    "collapsed": true
   },
   "outputs": [],
   "source": [
    "import matplotlib.pyplot as plt"
   ]
  },
  {
   "cell_type": "code",
   "execution_count": 31,
   "metadata": {},
   "outputs": [
    {
     "data": {
      "text/plain": [
       "11"
      ]
     },
     "execution_count": 31,
     "metadata": {},
     "output_type": "execute_result"
    }
   ],
   "source": [
    "len(all_stats)"
   ]
  },
  {
   "cell_type": "code",
   "execution_count": 39,
   "metadata": {},
   "outputs": [
    {
     "data": {
      "image/png": "[encoded data removed]",
      "text/plain": [
       "<matplotlib.figure.Figure at 0x7f5245db1240>"
      ]
     },
     "metadata": {},
     "output_type": "display_data"
    }
   ],
   "source": [
    "plt.figure(figsize=(12,7))\n",
    "plt.xlabel('Chain length', fontsize=12)\n",
    "plt.ylabel('Num episodes', fontsize=12)\n",
    "plt.title('Maximum number of episodes over 5 seeds')\n",
    "\n",
    "markers = ['.', 'o', 'v', 'x', '^']\n",
    "colors = ['red', 'green', 'blue', 'orange', 'gray']\n",
    "\n",
    "for i, ind in enumerate(id_to_plot):#, stat in enumerate(all_stats[:1]):\n",
    "    stat = all_stats[ind]\n",
    "    n = stat.shape[1]\n",
    "    for j in range(n):\n",
    "        plt.plot(dim_range[j], stat[2][j], markers[i], color=colors[i], markersize=15)"
   ]
  },
  {
   "cell_type": "code",
   "execution_count": null,
   "metadata": {
    "collapsed": true
   },
   "outputs": [],
   "source": [
    "experiments_to_plot = [0,1,2,3,]"
   ]
  },
  {
   "cell_type": "code",
   "execution_count": null,
   "metadata": {
    "collapsed": true
   },
   "outputs": [],
   "source": []
  },
  {
   "cell_type": "code",
   "execution_count": null,
   "metadata": {
    "collapsed": true
   },
   "outputs": [],
   "source": []
  },
  {
   "cell_type": "code",
   "execution_count": 11,
   "metadata": {},
   "outputs": [
    {
     "name": "stdout",
     "output_type": "stream",
     "text": [
      "eps_greedy\n",
      "[[ 595.   592.   658.   627.  2000. ]\n",
      " [ 652.  1203.4  980.6 1725.4 2000. ]\n",
      " [ 722.  2000.  2000.  2000.  2000. ]]\n",
      "\n",
      "\n",
      "ucb-1\n",
      "[[ 109.   118.   132.   244.   211. ]\n",
      " [ 164.2  131.4  205.8 1207.2 1308.8]\n",
      " [ 370.   150.   335.  2000.  2000. ]]\n",
      "\n",
      "\n",
      "ucb-2\n",
      "[[ 106.   110.   115.   122.   199. ]\n",
      " [ 107.4  128.   119.6  532.2  983. ]\n",
      " [ 110.   149.   134.  2000.  2000. ]]\n",
      "\n",
      "\n",
      "count_based_state_action\n",
      "[[  99.    99.    99.    99.    99. ]\n",
      " [1239.6  860.   859.4  873.6  865.6]\n",
      " [2000.  2000.  2000.  2000.  2000. ]]\n",
      "\n",
      "\n",
      "count_based_next_state_action\n",
      "[[  99.    99.    99.    99.    99. ]\n",
      " [1239.6  860.   859.4 1619.8 1619.8]\n",
      " [2000.  2000.  2000.  2000.  2000. ]]\n",
      "\n",
      "\n",
      "count_based_state\n",
      "[[  99.    99.    99.    99.    99. ]\n",
      " [1239.6  860.   859.4  873.6  865.6]\n",
      " [2000.  2000.  2000.  2000.  2000. ]]\n",
      "\n",
      "\n",
      "count_based_next_state\n",
      "[[  99.    99.    99.    99.    99. ]\n",
      " [1239.6  860.   859.4  874.2  865.6]\n",
      " [2000.  2000.  2000.  2000.  2000. ]]\n",
      "\n",
      "\n",
      "eps_greedy_count_based_state_action\n",
      "[[ 594.   587.   687.  1668.   838. ]\n",
      " [ 624.8  715.6 1507.2 1930.4 1767.6]\n",
      " [ 725.   846.  2000.  2000.  2000. ]]\n",
      "\n",
      "\n",
      "eps_greedy_count_based_next_state_action\n",
      "[[ 614.   606.   636.   596.   888. ]\n",
      " [ 649.4  908.4 1228.2 1519.4 1517.4]\n",
      " [ 728.  1647.  2000.  2000.  2000. ]]\n",
      "\n",
      "\n",
      "eps_greedy_count_based_state\n"
     ]
    },
    {
     "ename": "FileNotFoundError",
     "evalue": "[Errno 2] No such file or directory: 'results/dqn/chain/eps_greedy_count_based_state.npy'",
     "output_type": "error",
     "traceback": [
      "\u001b[0;31m---------------------------------------------------------------------------\u001b[0m",
      "\u001b[0;31mFileNotFoundError\u001b[0m                         Traceback (most recent call last)",
      "\u001b[0;32m<ipython-input-11-400c2e522c12>\u001b[0m in \u001b[0;36m<module>\u001b[0;34m()\u001b[0m\n\u001b[0;32m----> 1\u001b[0;31m \u001b[0mprint_results\u001b[0m\u001b[0;34m(\u001b[0m\u001b[0mexperiments\u001b[0m\u001b[0;34m,\u001b[0m \u001b[0;34m'results/dqn/chain/'\u001b[0m\u001b[0;34m)\u001b[0m\u001b[0;34m\u001b[0m\u001b[0m\n\u001b[0m",
      "\u001b[0;32m<ipython-input-8-8929a153d0cf>\u001b[0m in \u001b[0;36mprint_results\u001b[0;34m(experiments, folder)\u001b[0m\n\u001b[1;32m      4\u001b[0m         \u001b[0mname\u001b[0m \u001b[0;34m=\u001b[0m \u001b[0mexperiment\u001b[0m\u001b[0;34m[\u001b[0m\u001b[0;34m'name'\u001b[0m\u001b[0;34m]\u001b[0m\u001b[0;34m\u001b[0m\u001b[0m\n\u001b[1;32m      5\u001b[0m         \u001b[0mprint\u001b[0m\u001b[0;34m(\u001b[0m\u001b[0mname\u001b[0m\u001b[0;34m)\u001b[0m\u001b[0;34m\u001b[0m\u001b[0m\n\u001b[0;32m----> 6\u001b[0;31m         \u001b[0marr\u001b[0m \u001b[0;34m=\u001b[0m \u001b[0mnp\u001b[0m\u001b[0;34m.\u001b[0m\u001b[0mload\u001b[0m\u001b[0;34m(\u001b[0m\u001b[0mfolder\u001b[0m\u001b[0;34m+\u001b[0m\u001b[0mname\u001b[0m\u001b[0;34m+\u001b[0m\u001b[0;34m'.npy'\u001b[0m\u001b[0;34m)\u001b[0m\u001b[0;34m\u001b[0m\u001b[0m\n\u001b[0m\u001b[1;32m      7\u001b[0m         \u001b[0mstats\u001b[0m \u001b[0;34m=\u001b[0m \u001b[0mnp\u001b[0m\u001b[0;34m.\u001b[0m\u001b[0mzeros\u001b[0m\u001b[0;34m(\u001b[0m\u001b[0;34m(\u001b[0m\u001b[0;36m3\u001b[0m\u001b[0;34m,\u001b[0m \u001b[0marr\u001b[0m\u001b[0;34m.\u001b[0m\u001b[0mshape\u001b[0m\u001b[0;34m[\u001b[0m\u001b[0;36m1\u001b[0m\u001b[0;34m]\u001b[0m\u001b[0;34m)\u001b[0m\u001b[0;34m)\u001b[0m\u001b[0;34m\u001b[0m\u001b[0m\n\u001b[1;32m      8\u001b[0m         \u001b[0mstats\u001b[0m\u001b[0;34m[\u001b[0m\u001b[0;36m0\u001b[0m\u001b[0;34m]\u001b[0m \u001b[0;34m=\u001b[0m \u001b[0marr\u001b[0m\u001b[0;34m.\u001b[0m\u001b[0mmin\u001b[0m\u001b[0;34m(\u001b[0m\u001b[0maxis\u001b[0m\u001b[0;34m=\u001b[0m\u001b[0;36m0\u001b[0m\u001b[0;34m)\u001b[0m\u001b[0;34m\u001b[0m\u001b[0m\n",
      "\u001b[0;32m~/anaconda3/lib/python3.6/site-packages/numpy/lib/npyio.py\u001b[0m in \u001b[0;36mload\u001b[0;34m(file, mmap_mode, allow_pickle, fix_imports, encoding)\u001b[0m\n\u001b[1;32m    370\u001b[0m     \u001b[0mown_fid\u001b[0m \u001b[0;34m=\u001b[0m \u001b[0;32mFalse\u001b[0m\u001b[0;34m\u001b[0m\u001b[0m\n\u001b[1;32m    371\u001b[0m     \u001b[0;32mif\u001b[0m \u001b[0misinstance\u001b[0m\u001b[0;34m(\u001b[0m\u001b[0mfile\u001b[0m\u001b[0;34m,\u001b[0m \u001b[0mbasestring\u001b[0m\u001b[0;34m)\u001b[0m\u001b[0;34m:\u001b[0m\u001b[0;34m\u001b[0m\u001b[0m\n\u001b[0;32m--> 372\u001b[0;31m         \u001b[0mfid\u001b[0m \u001b[0;34m=\u001b[0m \u001b[0mopen\u001b[0m\u001b[0;34m(\u001b[0m\u001b[0mfile\u001b[0m\u001b[0;34m,\u001b[0m \u001b[0;34m\"rb\"\u001b[0m\u001b[0;34m)\u001b[0m\u001b[0;34m\u001b[0m\u001b[0m\n\u001b[0m\u001b[1;32m    373\u001b[0m         \u001b[0mown_fid\u001b[0m \u001b[0;34m=\u001b[0m \u001b[0;32mTrue\u001b[0m\u001b[0;34m\u001b[0m\u001b[0m\n\u001b[1;32m    374\u001b[0m     \u001b[0;32melif\u001b[0m \u001b[0mis_pathlib_path\u001b[0m\u001b[0;34m(\u001b[0m\u001b[0mfile\u001b[0m\u001b[0;34m)\u001b[0m\u001b[0;34m:\u001b[0m\u001b[0;34m\u001b[0m\u001b[0m\n",
      "\u001b[0;31mFileNotFoundError\u001b[0m: [Errno 2] No such file or directory: 'results/dqn/chain/eps_greedy_count_based_state.npy'"
     ]
    }
   ],
   "source": [
    "print_results(experiments, 'results/dqn/chain/')"
   ]
  },
  {
   "cell_type": "code",
   "execution_count": null,
   "metadata": {
    "collapsed": true
   },
   "outputs": [],
   "source": []
  },
  {
   "cell_type": "code",
   "execution_count": null,
   "metadata": {
    "collapsed": true
   },
   "outputs": [],
   "source": []
  },
  {
   "cell_type": "code",
   "execution_count": null,
   "metadata": {
    "collapsed": true
   },
   "outputs": [],
   "source": []
  },
  {
   "cell_type": "code",
   "execution_count": null,
   "metadata": {
    "collapsed": true
   },
   "outputs": [],
   "source": []
  },
  {
   "cell_type": "code",
   "execution_count": null,
   "metadata": {
    "collapsed": true
   },
   "outputs": [],
   "source": []
  },
  {
   "cell_type": "code",
   "execution_count": null,
   "metadata": {
    "collapsed": true
   },
   "outputs": [],
   "source": []
  },
  {
   "cell_type": "code",
   "execution_count": null,
   "metadata": {
    "collapsed": true
   },
   "outputs": [],
   "source": []
  }
 ],
 "metadata": {
  "kernelspec": {
   "display_name": "Python 3",
   "language": "python",
   "name": "python3"
  },
  "language_info": {
   "codemirror_mode": {
    "name": "ipython",
    "version": 3
   },
   "file_extension": ".py",
   "mimetype": "text/x-python",
   "name": "python",
   "nbconvert_exporter": "python",
   "pygments_lexer": "ipython3",
   "version": "3.6.2"
  }
 },
 "nbformat": 4,
 "nbformat_minor": 2
}
