{
 "cells": [
  {
   "cell_type": "code",
   "execution_count": 8,
   "metadata": {},
   "outputs": [
    {
     "data": {
      "text/plain": [
       "13.333333333333334"
      ]
     },
     "execution_count": 8,
     "metadata": {},
     "output_type": "execute_result"
    }
   ],
   "source": [
    "10000/750"
   ]
  },
  {
   "cell_type": "code",
   "execution_count": 10,
   "metadata": {},
   "outputs": [
    {
     "data": {
      "text/plain": [
       "11.666666666666668"
      ]
     },
     "execution_count": 10,
     "metadata": {},
     "output_type": "execute_result"
    }
   ],
   "source": [
    "14*10/60*5"
   ]
  },
  {
   "cell_type": "code",
   "execution_count": null,
   "metadata": {
    "collapsed": true
   },
   "outputs": [],
   "source": [
    "\"\"\"\n",
    "if __name__ == \"__main__\":\n",
    "    eps_params = {'exploration_fraction': 0.25,\n",
    "                  'exploration_final_eps': 0.01}\n",
    "\n",
    "    common_params = dict(gamma=0.99, write_logs=True,\n",
    "                         log_dir='logs/mountain_car',\n",
    "                         target_type='standard_q_learning')\n",
    "    params = dict(eps_params=eps_params, lr=1e-4, act_type='epsilon_greedy')\n",
    "    env = gym.make('CartPole-v0')\n",
    "    model = DQNnet(env.action_space.n, env.observation_space.shape[0],\n",
    "                   hidden_size=256, num_hidden=2)\n",
    "\n",
    "    rews, num_episodes = train(env,model,\n",
    "                               #seed=11,\n",
    "                               replay_buffer_size=1e+5,\n",
    "                               batch_size=256,\n",
    "                               learning_starts_in_steps=500,\n",
    "                               max_steps=40000,\n",
    "                               train_freq_in_steps=5,\n",
    "                               update_freq_in_steps=50,\n",
    "                               **common_params,\n",
    "                               **params)\n",
    "\n",
    "\"\"\""
   ]
  },
  {
   "cell_type": "code",
   "execution_count": 1,
   "metadata": {},
   "outputs": [
    {
     "data": {
      "text/plain": [
       "200.0"
      ]
     },
     "execution_count": 1,
     "metadata": {},
     "output_type": "execute_result"
    }
   ],
   "source": [
    "40000/200"
   ]
  },
  {
   "cell_type": "code",
   "execution_count": null,
   "metadata": {
    "collapsed": true
   },
   "outputs": [],
   "source": []
  }
 ],
 "metadata": {
  "kernelspec": {
   "display_name": "Python 3",
   "language": "python",
   "name": "python3"
  },
  "language_info": {
   "codemirror_mode": {
    "name": "ipython",
    "version": 3
   },
   "file_extension": ".py",
   "mimetype": "text/x-python",
   "name": "python",
   "nbconvert_exporter": "python",
   "pygments_lexer": "ipython3",
   "version": "3.6.4"
  }
 },
 "nbformat": 4,
 "nbformat_minor": 2
}
