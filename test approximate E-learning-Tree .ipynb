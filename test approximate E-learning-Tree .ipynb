{
 "cells": [
  {
   "cell_type": "code",
   "execution_count": 1,
   "metadata": {},
   "outputs": [],
   "source": [
    "import numpy as np\n",
    "import torch\n",
    "import torch.nn as nn\n",
    "import matplotlib.pyplot as plt\n",
    "from collections import defaultdict\n",
    "import copy\n",
    "%matplotlib inline"
   ]
  },
  {
   "cell_type": "code",
   "execution_count": 2,
   "metadata": {},
   "outputs": [],
   "source": [
    "from helpers.convert_to_var_foo import convert_to_var\n",
    "from helpers.create_empty_directory import create_empty_directory\n",
    "from helpers.replay_buffer import ReplayBuffer\n",
    "from tabular_environments.chain_environment import SimpleChain"
   ]
  },
  {
   "cell_type": "code",
   "execution_count": 3,
   "metadata": {},
   "outputs": [],
   "source": [
    "from qlearning.train import train_with_e_learning\n",
    "from qlearning.q_loss import sarsa_loss\n",
    "from qlearning.models import Qnet, Enet"
   ]
  },
  {
   "cell_type": "code",
   "execution_count": 4,
   "metadata": {},
   "outputs": [
    {
     "name": "stdout",
     "output_type": "stream",
     "text": [
      "schedule_timesteps 250\n"
     ]
    }
   ],
   "source": [
    "dim = 5\n",
    "env = SimpleChain(dim)\n",
    "model = Qnet(env.action_space.n,\n",
    "               env.observation_space.shape[0],\n",
    "               hidden_size=128, num_hidden=1,\n",
    "               set_weights=False)\n",
    "\n",
    "eps_params = {'exploration_fraction': 0.25,\n",
    "              'exploration_final_eps': 0.01}\n",
    "\n",
    "params = dict(gamma=0.99, gamma_E=0.9, write_logs=False,\n",
    "              target_type='standard_q_learning', eps_params=eps_params,\n",
    "              lr=1e-4, e_lr=1e-4, act_type='epsilon_greedy')\n",
    "\n",
    "    \n",
    "e_model = Enet(env.action_space.n,\n",
    "               env.observation_space.shape[0],\n",
    "               hidden_size=512, num_hidden=2)\n",
    "\n",
    "trajectory_path = 'example_trajectories/chain_{}'.format(dim)\n",
    "create_empty_directory(trajectory_path)\n",
    "max_num_episodes = 1000\n",
    "\n",
    "rews, num_episodes = train_with_e_learning(env, model, e_model,\n",
    "                           seed=42,\n",
    "                           replay_buffer_size=1e+5,\n",
    "                           batch_size=64,\n",
    "                           learning_starts_in_steps=250,\n",
    "                           max_steps=(dim+9)*max_num_episodes,\n",
    "                           max_num_episodes=max_num_episodes,\n",
    "                           train_freq_in_steps=5,\n",
    "                           update_freq_in_steps=100,\n",
    "                           print_freq=None,\n",
    "                           do_pretraining=True,\n",
    "                           chain_criterion=True,\n",
    "                           **params,\n",
    "                           return_trajectory=True,\n",
    "                           trajectory_path=trajectory_path)\n"
   ]
  },
  {
   "cell_type": "code",
   "execution_count": 5,
   "metadata": {},
   "outputs": [],
   "source": [
    "states = np.load(trajectory_path+'/_states.npy')\n",
    "actions = np.load(trajectory_path+'/_actions.npy')\n",
    "rewards = np.load(trajectory_path+'/_rewards.npy')\n",
    "dones = np.load(trajectory_path+'/_dones.npy')\n",
    "next_states = np.load(trajectory_path+'/_next_states.npy')\n",
    "next_actions = np.load(trajectory_path+'/_next_actions.npy')"
   ]
  },
  {
   "cell_type": "code",
   "execution_count": 6,
   "metadata": {},
   "outputs": [],
   "source": [
    "trajectory_len = len(states)"
   ]
  },
  {
   "cell_type": "code",
   "execution_count": 7,
   "metadata": {},
   "outputs": [],
   "source": [
    "trajectory = (states.sum(axis=1)-1).astype('int64')\n",
    "real_counters = np.zeros((trajectory_len, dim))\n",
    "\n",
    "real_counters[0][trajectory[0]] = 1\n",
    "\n",
    "for i in range(1, trajectory_len):\n",
    "    s = trajectory[i]\n",
    "    \n",
    "    for j in range(dim):\n",
    "        if s == j:\n",
    "            real_counters[i][j] = real_counters[i-1][j] + 1\n",
    "        else:\n",
    "            real_counters[i][j] = real_counters[i-1][j]"
   ]
  },
  {
   "cell_type": "code",
   "execution_count": 8,
   "metadata": {},
   "outputs": [
    {
     "name": "stdout",
     "output_type": "stream",
     "text": [
      "[[0.49949887 0.5       ]\n",
      " [0.4993754  0.5       ]\n",
      " [0.4991081  0.5       ]\n",
      " [0.49879757 0.5       ]\n",
      " [0.49847674 0.5       ]]\n",
      "\n",
      "[[0.49916306 0.49962708]\n",
      " [0.49895695 0.49953523]\n",
      " [0.4985105  0.4993363 ]\n",
      " [0.4979918  0.49910522]\n",
      " [0.4974561  0.4988665 ]]\n",
      "\n",
      "[[0.49916306 0.49962708]\n",
      " [0.49895695 0.49953523]\n",
      " [0.4985105  0.4993363 ]\n",
      " [0.4979918  0.49910522]\n",
      " [0.4974561  0.4988665 ]]\n",
      "\n",
      "[[0.49868098 0.4993004 ]\n",
      " [0.49838418 0.49914303]\n",
      " [0.49770483 0.49878275]\n",
      " [0.49691188 0.49836233]\n",
      " [0.49609375 0.4979284 ]]\n",
      "\n",
      "[[0.4982077  0.49882782]\n",
      " [0.49784508 0.49858975]\n",
      " [0.49695927 0.49800918]\n",
      " [0.49591976 0.4973281 ]\n",
      " [0.4948476  0.49662545]]\n",
      "\n",
      "[[0.4982077  0.49882782]\n",
      " [0.49784508 0.49858975]\n",
      " [0.49695927 0.49800918]\n",
      " [0.49591976 0.4973281 ]\n",
      " [0.4948476  0.49662545]]\n",
      "\n",
      "[[0.4982077  0.49882782]\n",
      " [0.49784508 0.49858975]\n",
      " [0.49695927 0.49800918]\n",
      " [0.49591976 0.4973281 ]\n",
      " [0.4948476  0.49662545]]\n",
      "\n",
      "[[0.4982077  0.49882782]\n",
      " [0.49784508 0.49858975]\n",
      " [0.49695927 0.49800918]\n",
      " [0.49591976 0.4973281 ]\n",
      " [0.4948476  0.49662545]]\n",
      "\n",
      "[[0.4982077  0.49882782]\n",
      " [0.49784508 0.49858975]\n",
      " [0.49695927 0.49800918]\n",
      " [0.49591976 0.4973281 ]\n",
      " [0.4948476  0.49662545]]\n",
      "\n"
     ]
    }
   ],
   "source": [
    "update_freq = 50\n",
    "train_freq =5\n",
    "gamma_E = 0.9\n",
    "batch_size = 64\n",
    "\n",
    "replay_buffer = ReplayBuffer(1e+3, seed=42)\n",
    "\n",
    "e_model = Enet(env.action_space.n,\n",
    "               1, #env.observation_space.shape[0],\n",
    "               hidden_size=512, num_hidden=2)\n",
    "target_e_model = copy.deepcopy(e_model)\n",
    "\n",
    "e_lr = 1e-4\n",
    "e_optimizer = torch.optim.Adam(e_model.parameters(), e_lr)\n",
    "\n",
    "\n",
    "e_counters = []\n",
    "all_states  = env.get_all_states()\n",
    "for i in range(1, 10):\n",
    "    state = states[i-1].sum(keepdims=True)-1\n",
    "    action = actions[i-1]\n",
    "    rew = rewards[i-1]\n",
    "    done = dones[i-1]\n",
    "    next_state = next_states[i].sum(keepdims=True)-1\n",
    "    next_action = next_actions[i]\n",
    "    \n",
    "    ### one step ###\n",
    "    if state == 0:\n",
    "        batch = [np.array([state]), np.array([action]), np.array([rew]),\n",
    "                             np.array([done]), np.array([next_state]), np.array([next_action])]\n",
    "        e_loss = sarsa_loss(e_optimizer, e_model, target_e_model, batch, gamma_E)\n",
    "    ################\n",
    "    \n",
    "    e_values = convert_to_var(all_states)\n",
    "    if torch.cuda.is_available():\n",
    "        e_values = e_model.forward(convert_to_var(all_states.sum(axis=1, keepdims=True)-1)).cpu().data.numpy()\n",
    "    else:\n",
    "        e_values = e_model.forward(convert_to_var(all_states.sum(axis=1, keepdims=True)-1)).data.numpy()\n",
    "        print(e_values)\n",
    "        print()\n",
    "        \n",
    "    cnt = np.log(e_values) / np.log(1 - e_lr) + np.log(2) / np.log(1-e_lr)\n",
    "    e_counters.append(cnt.sum(axis=1))\n",
    "\n",
    "    ##### batch step ###\n",
    "    #if i % train_freq == 0:\n",
    "    #    replay_buffer.add(state, action, rew, done, next_state, next_action)\n",
    "    #    batch = replay_buffer.sample(batch_size)\n",
    "    #    e_loss = sarsa_loss(e_optimizer, e_model, target_e_model, batch, gamma_E)\n",
    "    ################\n",
    "    \n",
    "    \n",
    "    if i % update_freq == 0:\n",
    "        target_e_model = copy.deepcopy(e_model)\n",
    "e_counters = np.array(e_counters)"
   ]
  },
  {
   "cell_type": "code",
   "execution_count": 9,
   "metadata": {},
   "outputs": [],
   "source": [
    "e_model = Enet(env.action_space.n,\n",
    "               1, #env.observation_space.shape[0],\n",
    "               hidden_size=512, num_hidden=2)\n"
   ]
  },
  {
   "cell_type": "code",
   "execution_count": 10,
   "metadata": {},
   "outputs": [],
   "source": [
    "e_values = e_model.forward(convert_to_var(all_states.sum(axis=1, keepdims=True)-1)).data.numpy()"
   ]
  },
  {
   "cell_type": "code",
   "execution_count": 11,
   "metadata": {},
   "outputs": [
    {
     "data": {
      "text/plain": [
       "array([[0.5, 0.5],\n",
       "       [0.5, 0.5],\n",
       "       [0.5, 0.5],\n",
       "       [0.5, 0.5],\n",
       "       [0.5, 0.5]], dtype=float32)"
      ]
     },
     "execution_count": 11,
     "metadata": {},
     "output_type": "execute_result"
    }
   ],
   "source": [
    "e_values"
   ]
  },
  {
   "cell_type": "code",
   "execution_count": null,
   "metadata": {},
   "outputs": [],
   "source": []
  },
  {
   "cell_type": "code",
   "execution_count": null,
   "metadata": {},
   "outputs": [],
   "source": []
  },
  {
   "cell_type": "code",
   "execution_count": 12,
   "metadata": {},
   "outputs": [
    {
     "data": {
      "text/plain": [
       "Text(0.5,1,'Real-counters for chain')"
      ]
     },
     "execution_count": 12,
     "metadata": {},
     "output_type": "execute_result"
    },
    {
     "data": {
      "image/png": "[encoded data removed]",
      "text/plain": [
       "<matplotlib.figure.Figure at 0x7f7cc4534898>"
      ]
     },
     "metadata": {},
     "output_type": "display_data"
    }
   ],
   "source": [
    "fontsize=20\n",
    "plt.figure(figsize=(16,5))\n",
    "plt.subplot(121)\n",
    "for i in range(dim):\n",
    "    plt.plot(e_counters[:, i], label='{}'.format(i+1))\n",
    "plt.grid()\n",
    "plt.legend(loc='lower right', fontsize=fontsize)\n",
    "plt.xlabel('steps', fontsize=fontsize)\n",
    "plt.ylabel('e-counters', fontsize=fontsize)\n",
    "plt.title('E-counters for chain', fontsize=fontsize)\n",
    "\n",
    "\n",
    "plt.subplot(122)\n",
    "for i in range(dim):\n",
    "    plt.plot(real_counters[:, i], label='{}'.format(i+1))\n",
    "plt.grid()\n",
    "plt.legend(loc='lower right', fontsize=fontsize)\n",
    "plt.xlabel('steps', fontsize=fontsize)\n",
    "plt.ylabel('e-counters', fontsize=fontsize)\n",
    "plt.title('Real-counters for chain', fontsize=fontsize)\n"
   ]
  },
  {
   "cell_type": "code",
   "execution_count": 14,
   "metadata": {},
   "outputs": [],
   "source": [
    "e_values = e_model.forward(convert_to_var(all_states.sum(axis=1, keepdims=True)-1)).data.numpy()"
   ]
  },
  {
   "cell_type": "code",
   "execution_count": 15,
   "metadata": {},
   "outputs": [
    {
     "data": {
      "text/plain": [
       "array([[2.1232780e-02, 8.9304401e-03],\n",
       "       [1.3984341e-02, 5.2685635e-03],\n",
       "       [3.2486012e-03, 8.5752556e-04],\n",
       "       [5.6657998e-04, 9.8744546e-05],\n",
       "       [9.3007831e-05, 1.0576643e-05]], dtype=float32)"
      ]
     },
     "execution_count": 15,
     "metadata": {},
     "output_type": "execute_result"
    }
   ],
   "source": [
    "e_values"
   ]
  },
  {
   "cell_type": "code",
   "execution_count": 16,
   "metadata": {},
   "outputs": [
    {
     "data": {
      "text/plain": [
       "array([ 718416.9 ,  812947.94, 1140464.  , 1531249.6 , 1935329.8 ],\n",
       "      dtype=float32)"
      ]
     },
     "execution_count": 16,
     "metadata": {},
     "output_type": "execute_result"
    }
   ],
   "source": [
    "cnt.sum(axis=1)"
   ]
  },
  {
   "cell_type": "code",
   "execution_count": 17,
   "metadata": {},
   "outputs": [
    {
     "data": {
      "text/plain": [
       "array([ 633.,  575.,  505.,  499., 1302.])"
      ]
     },
     "execution_count": 17,
     "metadata": {},
     "output_type": "execute_result"
    }
   ],
   "source": [
    "real_counters[-1]"
   ]
  }
 ],
 "metadata": {
  "kernelspec": {
   "display_name": "Python 3",
   "language": "python",
   "name": "python3"
  },
  "language_info": {
   "codemirror_mode": {
    "name": "ipython",
    "version": 3
   },
   "file_extension": ".py",
   "mimetype": "text/x-python",
   "name": "python",
   "nbconvert_exporter": "python",
   "pygments_lexer": "ipython3",
   "version": "3.6.4"
  }
 },
 "nbformat": 4,
 "nbformat_minor": 2
}
